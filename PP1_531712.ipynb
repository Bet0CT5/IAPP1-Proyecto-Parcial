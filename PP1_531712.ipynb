{
  "nbformat": 4,
  "nbformat_minor": 0,
  "metadata": {
    "colab": {
      "provenance": []
    },
    "kernelspec": {
      "name": "python3",
      "display_name": "Python 3"
    },
    "language_info": {
      "name": "python"
    }
  },
  "cells": [
    {
      "cell_type": "markdown",
      "source": [
        "# Proyecto Parcial 1\n",
        "\n",
        "**Objetivo:** Predecir la concentración de partículas PM2.5 en función de variables meteorológicas como temperatura, viento, precipitación y presión atmosférica en el municipio de San Pedro Garza García.\n",
        "\n",
        "Los datos correspondientes a los niveles de contaminantes y a las variables meteorológicas del municipio de San Pedro Garza García se obtuvieron de diferentes fuentes:\n",
        "- [Datos meteorológicos](https://meteostat.net/en/place/mx/san-pedro-garza-garcia?s=76393&t=2022-01-01/2022-12-31)\n",
        "- [Datos de contaminación](https://sinaica.inecc.gob.mx/scica/)\n",
        "\n",
        "A continuación se importarán cada uno de los archivos al ambiente de trabajo, se analizaran las variables para ver si están en el formato correcto y si no tienen inconsistencias de datos. Posteriormente se concatenaran los dataframes resultantes en uno solo para facilitar el análisis."
      ],
      "metadata": {
        "id": "5_GfFK08HeWi"
      }
    },
    {
      "cell_type": "markdown",
      "source": [
        "## Importación y limpieza de datos"
      ],
      "metadata": {
        "id": "DZVEqK4JheLv"
      }
    },
    {
      "cell_type": "markdown",
      "source": [
        "1. Se importan los datos correspondientes a los niveles de PM2.5 del año 2022."
      ],
      "metadata": {
        "id": "Ar1NpS2WUQO8"
      }
    },
    {
      "cell_type": "code",
      "source": [
        "import pandas as pd\n",
        "\n",
        "# Importar los datos del csv\n",
        "df_PM2_5 = pd.read_csv(\"/content/drive/MyDrive/ITC/10mo Semestre/Inteligencia Artificial I/P Parcial 1/Datos SINAICA-PM2.5-P24H-2022.csv\")\n",
        "\n",
        "# Imprimir los 10 primeros registros\n",
        "print(df_PM2_5.head(10))\n",
        "\n",
        "# Imprimir la info del dataframe\n",
        "df_PM2_5.info()"
      ],
      "metadata": {
        "colab": {
          "base_uri": "https://localhost:8080/"
        },
        "id": "iI9IHHYfUVD7",
        "outputId": "351d5ead-001d-4075-a25e-ce0f1046f62d"
      },
      "execution_count": 1,
      "outputs": [
        {
          "output_type": "stream",
          "name": "stdout",
          "text": [
            "       Fecha PM2.5 (ug/m³)\n",
            "0   1/1/2022            16\n",
            "1   1/2/2022             8\n",
            "2   1/3/2022             6\n",
            "3   1/4/2022            19\n",
            "4   1/5/2022            15\n",
            "5   1/6/2022            16\n",
            "6   1/7/2022            21\n",
            "7   1/8/2022            38\n",
            "8   1/9/2022            25\n",
            "9  1/10/2022             8\n",
            "<class 'pandas.core.frame.DataFrame'>\n",
            "RangeIndex: 365 entries, 0 to 364\n",
            "Data columns (total 2 columns):\n",
            " #   Column         Non-Null Count  Dtype \n",
            "---  ------         --------------  ----- \n",
            " 0   Fecha          365 non-null    object\n",
            " 1   PM2.5 (ug/m³)  365 non-null    object\n",
            "dtypes: object(2)\n",
            "memory usage: 5.8+ KB\n"
          ]
        }
      ]
    },
    {
      "cell_type": "markdown",
      "source": [
        "- Se convierten los tipos de datos de las variables a los que deben de ser. (object, object) -> (date, float)"
      ],
      "metadata": {
        "id": "Nlvp3xzHWPWH"
      }
    },
    {
      "cell_type": "code",
      "source": [
        "# Se convierten los datos a los tipos correspondientes\n",
        "df_PM2_5[\"Fecha\"] = pd.to_datetime(df_PM2_5[\"Fecha\"], format=\"%m/%d/%Y\", errors=\"coerce\")\n",
        "df_PM2_5[\"PM2.5 (ug/m³)\"] = pd.to_numeric(df_PM2_5[\"PM2.5 (ug/m³)\"], errors=\"coerce\")\n",
        "\n",
        "# Verificar el resultado\n",
        "print(df_PM2_5.dtypes)\n",
        "print(df_PM2_5.head())"
      ],
      "metadata": {
        "colab": {
          "base_uri": "https://localhost:8080/"
        },
        "id": "m_o7SLYEWOxZ",
        "outputId": "e46cdcc2-3f3f-4af2-8374-072cd91a1f8c"
      },
      "execution_count": 2,
      "outputs": [
        {
          "output_type": "stream",
          "name": "stdout",
          "text": [
            "Fecha            datetime64[ns]\n",
            "PM2.5 (ug/m³)           float64\n",
            "dtype: object\n",
            "       Fecha  PM2.5 (ug/m³)\n",
            "0 2022-01-01           16.0\n",
            "1 2022-01-02            8.0\n",
            "2 2022-01-03            6.0\n",
            "3 2022-01-04           19.0\n",
            "4 2022-01-05           15.0\n"
          ]
        }
      ]
    },
    {
      "cell_type": "markdown",
      "source": [
        "- Se revisa la información del dataframe para revisar si no hay valores nulos despues de la conversión."
      ],
      "metadata": {
        "id": "o8ZS18FugyKG"
      }
    },
    {
      "cell_type": "code",
      "source": [
        "df_PM2_5.info()"
      ],
      "metadata": {
        "colab": {
          "base_uri": "https://localhost:8080/"
        },
        "id": "QuqnxGtjfvvc",
        "outputId": "857783e4-fc0f-429e-f3e6-9fcebfeeaa77"
      },
      "execution_count": 3,
      "outputs": [
        {
          "output_type": "stream",
          "name": "stdout",
          "text": [
            "<class 'pandas.core.frame.DataFrame'>\n",
            "RangeIndex: 365 entries, 0 to 364\n",
            "Data columns (total 2 columns):\n",
            " #   Column         Non-Null Count  Dtype         \n",
            "---  ------         --------------  -----         \n",
            " 0   Fecha          365 non-null    datetime64[ns]\n",
            " 1   PM2.5 (ug/m³)  358 non-null    float64       \n",
            "dtypes: datetime64[ns](1), float64(1)\n",
            "memory usage: 5.8 KB\n"
          ]
        }
      ]
    },
    {
      "cell_type": "markdown",
      "source": [
        "- Se llenan los valores nulos en PM2.5 por la media de los datos existentes."
      ],
      "metadata": {
        "id": "qGfkLsEHge9Q"
      }
    },
    {
      "cell_type": "code",
      "source": [
        "# Llenar los valores nulos con la media de cada columna numérica\n",
        "df_PM2_5.fillna(df_PM2_5.mean(), inplace=True)\n",
        "df_PM2_5.info()"
      ],
      "metadata": {
        "colab": {
          "base_uri": "https://localhost:8080/"
        },
        "id": "7vwv2OfAgJOu",
        "outputId": "dadb215b-c08f-4682-9661-42a503f44b02"
      },
      "execution_count": 4,
      "outputs": [
        {
          "output_type": "stream",
          "name": "stdout",
          "text": [
            "<class 'pandas.core.frame.DataFrame'>\n",
            "RangeIndex: 365 entries, 0 to 364\n",
            "Data columns (total 2 columns):\n",
            " #   Column         Non-Null Count  Dtype         \n",
            "---  ------         --------------  -----         \n",
            " 0   Fecha          365 non-null    datetime64[ns]\n",
            " 1   PM2.5 (ug/m³)  365 non-null    float64       \n",
            "dtypes: datetime64[ns](1), float64(1)\n",
            "memory usage: 5.8 KB\n"
          ]
        }
      ]
    },
    {
      "cell_type": "markdown",
      "source": [
        "2. Se importan los datos meteorológicos del año 2022."
      ],
      "metadata": {
        "id": "wZnUMcVYXOuo"
      }
    },
    {
      "cell_type": "code",
      "source": [
        "# Importar los datos del csv\n",
        "df_met = pd.read_csv(\"/content/drive/MyDrive/ITC/10mo Semestre/Inteligencia Artificial I/P Parcial 1/weather data MTY.csv\")\n",
        "\n",
        "# Imprimir los 10 primeros registros\n",
        "print(df_met.head(10))\n",
        "\n",
        "# Imprimir la info del dataframe\n",
        "df_met.info()"
      ],
      "metadata": {
        "colab": {
          "base_uri": "https://localhost:8080/"
        },
        "id": "iA381hCMXOFu",
        "outputId": "98720b96-8d9a-4197-ca1b-892f1078a395"
      },
      "execution_count": 5,
      "outputs": [
        {
          "output_type": "stream",
          "name": "stdout",
          "text": [
            "         date  tavg  tmin  tmax  prcp  snow   wdir  wspd  wpgt    pres  tsun\n",
            "0  2022-01-01  25.1  15.6  35.2   0.0   NaN  288.0   8.7   NaN  1005.4   NaN\n",
            "1  2022-01-02  14.1   5.2  22.1   0.0   NaN  358.0  20.7   NaN  1024.2   NaN\n",
            "2  2022-01-03   8.1   1.7  16.4   0.0   NaN   80.0   7.6   NaN  1030.5   NaN\n",
            "3  2022-01-04  11.8   3.3  22.0   0.0   NaN  158.0   5.9   NaN  1020.9   NaN\n",
            "4  2022-01-05  17.1   6.2  30.0   0.0   NaN  270.0   6.9   NaN  1012.7   NaN\n",
            "5  2022-01-06  18.6   9.1  30.0   0.0   NaN  339.0   6.6   NaN  1013.2   NaN\n",
            "6  2022-01-07  13.3  11.2  15.2   0.4   NaN   61.0  10.8   NaN  1018.8   NaN\n",
            "7  2022-01-08  16.3  10.7  23.0   0.0   NaN  200.0   6.9   NaN  1015.5   NaN\n",
            "8  2022-01-09  18.9  11.8  28.2   0.0   NaN  334.0   9.0   NaN  1020.3   NaN\n",
            "9  2022-01-10  12.9  10.8  17.1   0.0   NaN    2.0  16.3   NaN  1032.8   NaN\n",
            "<class 'pandas.core.frame.DataFrame'>\n",
            "RangeIndex: 365 entries, 0 to 364\n",
            "Data columns (total 11 columns):\n",
            " #   Column  Non-Null Count  Dtype  \n",
            "---  ------  --------------  -----  \n",
            " 0   date    365 non-null    object \n",
            " 1   tavg    363 non-null    float64\n",
            " 2   tmin    363 non-null    float64\n",
            " 3   tmax    363 non-null    float64\n",
            " 4   prcp    363 non-null    float64\n",
            " 5   snow    0 non-null      float64\n",
            " 6   wdir    363 non-null    float64\n",
            " 7   wspd    363 non-null    float64\n",
            " 8   wpgt    0 non-null      float64\n",
            " 9   pres    363 non-null    float64\n",
            " 10  tsun    0 non-null      float64\n",
            "dtypes: float64(10), object(1)\n",
            "memory usage: 31.5+ KB\n"
          ]
        }
      ]
    },
    {
      "cell_type": "markdown",
      "source": [
        "- Al ver el dataframe resultante se deben de hacer los siguientes cambios:\n",
        " - Convertir la variable fecha de object a date.\n",
        " - Eliminar todas las variables que no tienen datos.\n",
        "   - snow\n",
        "   - wpgt\n",
        "   - tsun\n",
        " - Verificar los 2 registros nulos del dataframe, llenar cada una de las variables con la media correspondiente."
      ],
      "metadata": {
        "id": "gN9KHzLtYIDO"
      }
    },
    {
      "cell_type": "code",
      "source": [
        "# Convertir la variable fecha de object a date\n",
        "df_met[\"date\"] = pd.to_datetime(df_met[\"date\"], format=\"%Y-%m-%d\", errors=\"coerce\")\n",
        "\n",
        "# Eliminar variables que no tienen datos\n",
        "df_met = df_met.drop([\"snow\", \"wpgt\", \"tsun\"], axis=1)\n",
        "\n",
        "# Llenar los valores nulos con la media de cada columna numérica\n",
        "df_met.fillna(df_met.mean(), inplace=True)\n",
        "\n",
        "# Verificar el resultado\n",
        "print(df_met.dtypes)\n",
        "print(df_met.head())\n",
        "df_met.info()"
      ],
      "metadata": {
        "colab": {
          "base_uri": "https://localhost:8080/"
        },
        "id": "0bH5D1uGZinw",
        "outputId": "96330657-d7a1-4362-c0ed-d82c1b623258"
      },
      "execution_count": 6,
      "outputs": [
        {
          "output_type": "stream",
          "name": "stdout",
          "text": [
            "date    datetime64[ns]\n",
            "tavg           float64\n",
            "tmin           float64\n",
            "tmax           float64\n",
            "prcp           float64\n",
            "wdir           float64\n",
            "wspd           float64\n",
            "pres           float64\n",
            "dtype: object\n",
            "        date  tavg  tmin  tmax  prcp   wdir  wspd    pres\n",
            "0 2022-01-01  25.1  15.6  35.2   0.0  288.0   8.7  1005.4\n",
            "1 2022-01-02  14.1   5.2  22.1   0.0  358.0  20.7  1024.2\n",
            "2 2022-01-03   8.1   1.7  16.4   0.0   80.0   7.6  1030.5\n",
            "3 2022-01-04  11.8   3.3  22.0   0.0  158.0   5.9  1020.9\n",
            "4 2022-01-05  17.1   6.2  30.0   0.0  270.0   6.9  1012.7\n",
            "<class 'pandas.core.frame.DataFrame'>\n",
            "RangeIndex: 365 entries, 0 to 364\n",
            "Data columns (total 8 columns):\n",
            " #   Column  Non-Null Count  Dtype         \n",
            "---  ------  --------------  -----         \n",
            " 0   date    365 non-null    datetime64[ns]\n",
            " 1   tavg    365 non-null    float64       \n",
            " 2   tmin    365 non-null    float64       \n",
            " 3   tmax    365 non-null    float64       \n",
            " 4   prcp    365 non-null    float64       \n",
            " 5   wdir    365 non-null    float64       \n",
            " 6   wspd    365 non-null    float64       \n",
            " 7   pres    365 non-null    float64       \n",
            "dtypes: datetime64[ns](1), float64(7)\n",
            "memory usage: 22.9 KB\n"
          ]
        }
      ]
    },
    {
      "cell_type": "markdown",
      "source": [
        "3. Se hace un merge entre ambos dataframes para tener un solo dataframe resultante."
      ],
      "metadata": {
        "id": "HKCXLWHrcZxF"
      }
    },
    {
      "cell_type": "code",
      "source": [
        "# Concatenar horizontalmente\n",
        "df_concat = pd.concat([df_PM2_5, df_met], axis=1)\n",
        "\n",
        "# Eliminar la columna date del dataframe resultante\n",
        "df_concat = df_concat.drop([\"date\"], axis=1)\n",
        "\n",
        "# Se imprime la info del dataframe resultante\n",
        "df_concat.info()\n",
        "df_concat.head(10)"
      ],
      "metadata": {
        "colab": {
          "base_uri": "https://localhost:8080/",
          "height": 649
        },
        "id": "4Bgo0lSScixG",
        "outputId": "beaa69c3-a093-4c00-ed51-8242d8271697"
      },
      "execution_count": 7,
      "outputs": [
        {
          "output_type": "stream",
          "name": "stdout",
          "text": [
            "<class 'pandas.core.frame.DataFrame'>\n",
            "RangeIndex: 365 entries, 0 to 364\n",
            "Data columns (total 9 columns):\n",
            " #   Column         Non-Null Count  Dtype         \n",
            "---  ------         --------------  -----         \n",
            " 0   Fecha          365 non-null    datetime64[ns]\n",
            " 1   PM2.5 (ug/m³)  365 non-null    float64       \n",
            " 2   tavg           365 non-null    float64       \n",
            " 3   tmin           365 non-null    float64       \n",
            " 4   tmax           365 non-null    float64       \n",
            " 5   prcp           365 non-null    float64       \n",
            " 6   wdir           365 non-null    float64       \n",
            " 7   wspd           365 non-null    float64       \n",
            " 8   pres           365 non-null    float64       \n",
            "dtypes: datetime64[ns](1), float64(8)\n",
            "memory usage: 25.8 KB\n"
          ]
        },
        {
          "output_type": "execute_result",
          "data": {
            "text/plain": [
              "       Fecha  PM2.5 (ug/m³)  tavg  tmin  tmax  prcp   wdir  wspd    pres\n",
              "0 2022-01-01           16.0  25.1  15.6  35.2   0.0  288.0   8.7  1005.4\n",
              "1 2022-01-02            8.0  14.1   5.2  22.1   0.0  358.0  20.7  1024.2\n",
              "2 2022-01-03            6.0   8.1   1.7  16.4   0.0   80.0   7.6  1030.5\n",
              "3 2022-01-04           19.0  11.8   3.3  22.0   0.0  158.0   5.9  1020.9\n",
              "4 2022-01-05           15.0  17.1   6.2  30.0   0.0  270.0   6.9  1012.7\n",
              "5 2022-01-06           16.0  18.6   9.1  30.0   0.0  339.0   6.6  1013.2\n",
              "6 2022-01-07           21.0  13.3  11.2  15.2   0.4   61.0  10.8  1018.8\n",
              "7 2022-01-08           38.0  16.3  10.7  23.0   0.0  200.0   6.9  1015.5\n",
              "8 2022-01-09           25.0  18.9  11.8  28.2   0.0  334.0   9.0  1020.3\n",
              "9 2022-01-10            8.0  12.9  10.8  17.1   0.0    2.0  16.3  1032.8"
            ],
            "text/html": [
              "\n",
              "  <div id=\"df-8886218f-3e74-4e2d-ad84-39b28acfd33b\" class=\"colab-df-container\">\n",
              "    <div>\n",
              "<style scoped>\n",
              "    .dataframe tbody tr th:only-of-type {\n",
              "        vertical-align: middle;\n",
              "    }\n",
              "\n",
              "    .dataframe tbody tr th {\n",
              "        vertical-align: top;\n",
              "    }\n",
              "\n",
              "    .dataframe thead th {\n",
              "        text-align: right;\n",
              "    }\n",
              "</style>\n",
              "<table border=\"1\" class=\"dataframe\">\n",
              "  <thead>\n",
              "    <tr style=\"text-align: right;\">\n",
              "      <th></th>\n",
              "      <th>Fecha</th>\n",
              "      <th>PM2.5 (ug/m³)</th>\n",
              "      <th>tavg</th>\n",
              "      <th>tmin</th>\n",
              "      <th>tmax</th>\n",
              "      <th>prcp</th>\n",
              "      <th>wdir</th>\n",
              "      <th>wspd</th>\n",
              "      <th>pres</th>\n",
              "    </tr>\n",
              "  </thead>\n",
              "  <tbody>\n",
              "    <tr>\n",
              "      <th>0</th>\n",
              "      <td>2022-01-01</td>\n",
              "      <td>16.0</td>\n",
              "      <td>25.1</td>\n",
              "      <td>15.6</td>\n",
              "      <td>35.2</td>\n",
              "      <td>0.0</td>\n",
              "      <td>288.0</td>\n",
              "      <td>8.7</td>\n",
              "      <td>1005.4</td>\n",
              "    </tr>\n",
              "    <tr>\n",
              "      <th>1</th>\n",
              "      <td>2022-01-02</td>\n",
              "      <td>8.0</td>\n",
              "      <td>14.1</td>\n",
              "      <td>5.2</td>\n",
              "      <td>22.1</td>\n",
              "      <td>0.0</td>\n",
              "      <td>358.0</td>\n",
              "      <td>20.7</td>\n",
              "      <td>1024.2</td>\n",
              "    </tr>\n",
              "    <tr>\n",
              "      <th>2</th>\n",
              "      <td>2022-01-03</td>\n",
              "      <td>6.0</td>\n",
              "      <td>8.1</td>\n",
              "      <td>1.7</td>\n",
              "      <td>16.4</td>\n",
              "      <td>0.0</td>\n",
              "      <td>80.0</td>\n",
              "      <td>7.6</td>\n",
              "      <td>1030.5</td>\n",
              "    </tr>\n",
              "    <tr>\n",
              "      <th>3</th>\n",
              "      <td>2022-01-04</td>\n",
              "      <td>19.0</td>\n",
              "      <td>11.8</td>\n",
              "      <td>3.3</td>\n",
              "      <td>22.0</td>\n",
              "      <td>0.0</td>\n",
              "      <td>158.0</td>\n",
              "      <td>5.9</td>\n",
              "      <td>1020.9</td>\n",
              "    </tr>\n",
              "    <tr>\n",
              "      <th>4</th>\n",
              "      <td>2022-01-05</td>\n",
              "      <td>15.0</td>\n",
              "      <td>17.1</td>\n",
              "      <td>6.2</td>\n",
              "      <td>30.0</td>\n",
              "      <td>0.0</td>\n",
              "      <td>270.0</td>\n",
              "      <td>6.9</td>\n",
              "      <td>1012.7</td>\n",
              "    </tr>\n",
              "    <tr>\n",
              "      <th>5</th>\n",
              "      <td>2022-01-06</td>\n",
              "      <td>16.0</td>\n",
              "      <td>18.6</td>\n",
              "      <td>9.1</td>\n",
              "      <td>30.0</td>\n",
              "      <td>0.0</td>\n",
              "      <td>339.0</td>\n",
              "      <td>6.6</td>\n",
              "      <td>1013.2</td>\n",
              "    </tr>\n",
              "    <tr>\n",
              "      <th>6</th>\n",
              "      <td>2022-01-07</td>\n",
              "      <td>21.0</td>\n",
              "      <td>13.3</td>\n",
              "      <td>11.2</td>\n",
              "      <td>15.2</td>\n",
              "      <td>0.4</td>\n",
              "      <td>61.0</td>\n",
              "      <td>10.8</td>\n",
              "      <td>1018.8</td>\n",
              "    </tr>\n",
              "    <tr>\n",
              "      <th>7</th>\n",
              "      <td>2022-01-08</td>\n",
              "      <td>38.0</td>\n",
              "      <td>16.3</td>\n",
              "      <td>10.7</td>\n",
              "      <td>23.0</td>\n",
              "      <td>0.0</td>\n",
              "      <td>200.0</td>\n",
              "      <td>6.9</td>\n",
              "      <td>1015.5</td>\n",
              "    </tr>\n",
              "    <tr>\n",
              "      <th>8</th>\n",
              "      <td>2022-01-09</td>\n",
              "      <td>25.0</td>\n",
              "      <td>18.9</td>\n",
              "      <td>11.8</td>\n",
              "      <td>28.2</td>\n",
              "      <td>0.0</td>\n",
              "      <td>334.0</td>\n",
              "      <td>9.0</td>\n",
              "      <td>1020.3</td>\n",
              "    </tr>\n",
              "    <tr>\n",
              "      <th>9</th>\n",
              "      <td>2022-01-10</td>\n",
              "      <td>8.0</td>\n",
              "      <td>12.9</td>\n",
              "      <td>10.8</td>\n",
              "      <td>17.1</td>\n",
              "      <td>0.0</td>\n",
              "      <td>2.0</td>\n",
              "      <td>16.3</td>\n",
              "      <td>1032.8</td>\n",
              "    </tr>\n",
              "  </tbody>\n",
              "</table>\n",
              "</div>\n",
              "    <div class=\"colab-df-buttons\">\n",
              "\n",
              "  <div class=\"colab-df-container\">\n",
              "    <button class=\"colab-df-convert\" onclick=\"convertToInteractive('df-8886218f-3e74-4e2d-ad84-39b28acfd33b')\"\n",
              "            title=\"Convert this dataframe to an interactive table.\"\n",
              "            style=\"display:none;\">\n",
              "\n",
              "  <svg xmlns=\"http://www.w3.org/2000/svg\" height=\"24px\" viewBox=\"0 -960 960 960\">\n",
              "    <path d=\"M120-120v-720h720v720H120Zm60-500h600v-160H180v160Zm220 220h160v-160H400v160Zm0 220h160v-160H400v160ZM180-400h160v-160H180v160Zm440 0h160v-160H620v160ZM180-180h160v-160H180v160Zm440 0h160v-160H620v160Z\"/>\n",
              "  </svg>\n",
              "    </button>\n",
              "\n",
              "  <style>\n",
              "    .colab-df-container {\n",
              "      display:flex;\n",
              "      gap: 12px;\n",
              "    }\n",
              "\n",
              "    .colab-df-convert {\n",
              "      background-color: #E8F0FE;\n",
              "      border: none;\n",
              "      border-radius: 50%;\n",
              "      cursor: pointer;\n",
              "      display: none;\n",
              "      fill: #1967D2;\n",
              "      height: 32px;\n",
              "      padding: 0 0 0 0;\n",
              "      width: 32px;\n",
              "    }\n",
              "\n",
              "    .colab-df-convert:hover {\n",
              "      background-color: #E2EBFA;\n",
              "      box-shadow: 0px 1px 2px rgba(60, 64, 67, 0.3), 0px 1px 3px 1px rgba(60, 64, 67, 0.15);\n",
              "      fill: #174EA6;\n",
              "    }\n",
              "\n",
              "    .colab-df-buttons div {\n",
              "      margin-bottom: 4px;\n",
              "    }\n",
              "\n",
              "    [theme=dark] .colab-df-convert {\n",
              "      background-color: #3B4455;\n",
              "      fill: #D2E3FC;\n",
              "    }\n",
              "\n",
              "    [theme=dark] .colab-df-convert:hover {\n",
              "      background-color: #434B5C;\n",
              "      box-shadow: 0px 1px 3px 1px rgba(0, 0, 0, 0.15);\n",
              "      filter: drop-shadow(0px 1px 2px rgba(0, 0, 0, 0.3));\n",
              "      fill: #FFFFFF;\n",
              "    }\n",
              "  </style>\n",
              "\n",
              "    <script>\n",
              "      const buttonEl =\n",
              "        document.querySelector('#df-8886218f-3e74-4e2d-ad84-39b28acfd33b button.colab-df-convert');\n",
              "      buttonEl.style.display =\n",
              "        google.colab.kernel.accessAllowed ? 'block' : 'none';\n",
              "\n",
              "      async function convertToInteractive(key) {\n",
              "        const element = document.querySelector('#df-8886218f-3e74-4e2d-ad84-39b28acfd33b');\n",
              "        const dataTable =\n",
              "          await google.colab.kernel.invokeFunction('convertToInteractive',\n",
              "                                                    [key], {});\n",
              "        if (!dataTable) return;\n",
              "\n",
              "        const docLinkHtml = 'Like what you see? Visit the ' +\n",
              "          '<a target=\"_blank\" href=https://colab.research.google.com/notebooks/data_table.ipynb>data table notebook</a>'\n",
              "          + ' to learn more about interactive tables.';\n",
              "        element.innerHTML = '';\n",
              "        dataTable['output_type'] = 'display_data';\n",
              "        await google.colab.output.renderOutput(dataTable, element);\n",
              "        const docLink = document.createElement('div');\n",
              "        docLink.innerHTML = docLinkHtml;\n",
              "        element.appendChild(docLink);\n",
              "      }\n",
              "    </script>\n",
              "  </div>\n",
              "\n",
              "\n",
              "<div id=\"df-fe83677b-8a66-4643-a7ac-8eab5d4eb944\">\n",
              "  <button class=\"colab-df-quickchart\" onclick=\"quickchart('df-fe83677b-8a66-4643-a7ac-8eab5d4eb944')\"\n",
              "            title=\"Suggest charts\"\n",
              "            style=\"display:none;\">\n",
              "\n",
              "<svg xmlns=\"http://www.w3.org/2000/svg\" height=\"24px\"viewBox=\"0 0 24 24\"\n",
              "     width=\"24px\">\n",
              "    <g>\n",
              "        <path d=\"M19 3H5c-1.1 0-2 .9-2 2v14c0 1.1.9 2 2 2h14c1.1 0 2-.9 2-2V5c0-1.1-.9-2-2-2zM9 17H7v-7h2v7zm4 0h-2V7h2v10zm4 0h-2v-4h2v4z\"/>\n",
              "    </g>\n",
              "</svg>\n",
              "  </button>\n",
              "\n",
              "<style>\n",
              "  .colab-df-quickchart {\n",
              "      --bg-color: #E8F0FE;\n",
              "      --fill-color: #1967D2;\n",
              "      --hover-bg-color: #E2EBFA;\n",
              "      --hover-fill-color: #174EA6;\n",
              "      --disabled-fill-color: #AAA;\n",
              "      --disabled-bg-color: #DDD;\n",
              "  }\n",
              "\n",
              "  [theme=dark] .colab-df-quickchart {\n",
              "      --bg-color: #3B4455;\n",
              "      --fill-color: #D2E3FC;\n",
              "      --hover-bg-color: #434B5C;\n",
              "      --hover-fill-color: #FFFFFF;\n",
              "      --disabled-bg-color: #3B4455;\n",
              "      --disabled-fill-color: #666;\n",
              "  }\n",
              "\n",
              "  .colab-df-quickchart {\n",
              "    background-color: var(--bg-color);\n",
              "    border: none;\n",
              "    border-radius: 50%;\n",
              "    cursor: pointer;\n",
              "    display: none;\n",
              "    fill: var(--fill-color);\n",
              "    height: 32px;\n",
              "    padding: 0;\n",
              "    width: 32px;\n",
              "  }\n",
              "\n",
              "  .colab-df-quickchart:hover {\n",
              "    background-color: var(--hover-bg-color);\n",
              "    box-shadow: 0 1px 2px rgba(60, 64, 67, 0.3), 0 1px 3px 1px rgba(60, 64, 67, 0.15);\n",
              "    fill: var(--button-hover-fill-color);\n",
              "  }\n",
              "\n",
              "  .colab-df-quickchart-complete:disabled,\n",
              "  .colab-df-quickchart-complete:disabled:hover {\n",
              "    background-color: var(--disabled-bg-color);\n",
              "    fill: var(--disabled-fill-color);\n",
              "    box-shadow: none;\n",
              "  }\n",
              "\n",
              "  .colab-df-spinner {\n",
              "    border: 2px solid var(--fill-color);\n",
              "    border-color: transparent;\n",
              "    border-bottom-color: var(--fill-color);\n",
              "    animation:\n",
              "      spin 1s steps(1) infinite;\n",
              "  }\n",
              "\n",
              "  @keyframes spin {\n",
              "    0% {\n",
              "      border-color: transparent;\n",
              "      border-bottom-color: var(--fill-color);\n",
              "      border-left-color: var(--fill-color);\n",
              "    }\n",
              "    20% {\n",
              "      border-color: transparent;\n",
              "      border-left-color: var(--fill-color);\n",
              "      border-top-color: var(--fill-color);\n",
              "    }\n",
              "    30% {\n",
              "      border-color: transparent;\n",
              "      border-left-color: var(--fill-color);\n",
              "      border-top-color: var(--fill-color);\n",
              "      border-right-color: var(--fill-color);\n",
              "    }\n",
              "    40% {\n",
              "      border-color: transparent;\n",
              "      border-right-color: var(--fill-color);\n",
              "      border-top-color: var(--fill-color);\n",
              "    }\n",
              "    60% {\n",
              "      border-color: transparent;\n",
              "      border-right-color: var(--fill-color);\n",
              "    }\n",
              "    80% {\n",
              "      border-color: transparent;\n",
              "      border-right-color: var(--fill-color);\n",
              "      border-bottom-color: var(--fill-color);\n",
              "    }\n",
              "    90% {\n",
              "      border-color: transparent;\n",
              "      border-bottom-color: var(--fill-color);\n",
              "    }\n",
              "  }\n",
              "</style>\n",
              "\n",
              "  <script>\n",
              "    async function quickchart(key) {\n",
              "      const quickchartButtonEl =\n",
              "        document.querySelector('#' + key + ' button');\n",
              "      quickchartButtonEl.disabled = true;  // To prevent multiple clicks.\n",
              "      quickchartButtonEl.classList.add('colab-df-spinner');\n",
              "      try {\n",
              "        const charts = await google.colab.kernel.invokeFunction(\n",
              "            'suggestCharts', [key], {});\n",
              "      } catch (error) {\n",
              "        console.error('Error during call to suggestCharts:', error);\n",
              "      }\n",
              "      quickchartButtonEl.classList.remove('colab-df-spinner');\n",
              "      quickchartButtonEl.classList.add('colab-df-quickchart-complete');\n",
              "    }\n",
              "    (() => {\n",
              "      let quickchartButtonEl =\n",
              "        document.querySelector('#df-fe83677b-8a66-4643-a7ac-8eab5d4eb944 button');\n",
              "      quickchartButtonEl.style.display =\n",
              "        google.colab.kernel.accessAllowed ? 'block' : 'none';\n",
              "    })();\n",
              "  </script>\n",
              "</div>\n",
              "\n",
              "    </div>\n",
              "  </div>\n"
            ],
            "application/vnd.google.colaboratory.intrinsic+json": {
              "type": "dataframe",
              "variable_name": "df_concat",
              "summary": "{\n  \"name\": \"df_concat\",\n  \"rows\": 365,\n  \"fields\": [\n    {\n      \"column\": \"Fecha\",\n      \"properties\": {\n        \"dtype\": \"date\",\n        \"min\": \"2022-01-01 00:00:00\",\n        \"max\": \"2022-12-31 00:00:00\",\n        \"num_unique_values\": 365,\n        \"samples\": [\n          \"2022-07-13 00:00:00\",\n          \"2022-02-03 00:00:00\",\n          \"2022-01-16 00:00:00\"\n        ],\n        \"semantic_type\": \"\",\n        \"description\": \"\"\n      }\n    },\n    {\n      \"column\": \"PM2.5 (ug/m\\u00b3)\",\n      \"properties\": {\n        \"dtype\": \"number\",\n        \"std\": 7.741140504340286,\n        \"min\": 5.0,\n        \"max\": 55.0,\n        \"num_unique_values\": 42,\n        \"samples\": [\n          33.0,\n          17.0,\n          9.0\n        ],\n        \"semantic_type\": \"\",\n        \"description\": \"\"\n      }\n    },\n    {\n      \"column\": \"tavg\",\n      \"properties\": {\n        \"dtype\": \"number\",\n        \"std\": 7.002987716034341,\n        \"min\": 1.1,\n        \"max\": 32.7,\n        \"num_unique_values\": 186,\n        \"samples\": [\n          30.4,\n          11.1,\n          18.5\n        ],\n        \"semantic_type\": \"\",\n        \"description\": \"\"\n      }\n    },\n    {\n      \"column\": \"tmin\",\n      \"properties\": {\n        \"dtype\": \"number\",\n        \"std\": 6.902324391746609,\n        \"min\": -2.9,\n        \"max\": 26.2,\n        \"num_unique_values\": 150,\n        \"samples\": [\n          14.4,\n          1.8,\n          24.9\n        ],\n        \"semantic_type\": \"\",\n        \"description\": \"\"\n      }\n    },\n    {\n      \"column\": \"tmax\",\n      \"properties\": {\n        \"dtype\": \"number\",\n        \"std\": 7.834463517410544,\n        \"min\": 7.6,\n        \"max\": 42.4,\n        \"num_unique_values\": 172,\n        \"samples\": [\n          38.2,\n          29.6,\n          19.8\n        ],\n        \"semantic_type\": \"\",\n        \"description\": \"\"\n      }\n    },\n    {\n      \"column\": \"prcp\",\n      \"properties\": {\n        \"dtype\": \"number\",\n        \"std\": 3.6214637924463595,\n        \"min\": 0.0,\n        \"max\": 34.0,\n        \"num_unique_values\": 53,\n        \"samples\": [\n          18.5,\n          2.1,\n          4.1\n        ],\n        \"semantic_type\": \"\",\n        \"description\": \"\"\n      }\n    },\n    {\n      \"column\": \"wdir\",\n      \"properties\": {\n        \"dtype\": \"number\",\n        \"std\": 85.69286888462113,\n        \"min\": 1.0,\n        \"max\": 359.0,\n        \"num_unique_values\": 144,\n        \"samples\": [\n          82.0,\n          357.0,\n          128.0\n        ],\n        \"semantic_type\": \"\",\n        \"description\": \"\"\n      }\n    },\n    {\n      \"column\": \"wspd\",\n      \"properties\": {\n        \"dtype\": \"number\",\n        \"std\": 4.470779524276246,\n        \"min\": 3.9,\n        \"max\": 24.4,\n        \"num_unique_values\": 141,\n        \"samples\": [\n          14.5,\n          15.1,\n          15.2\n        ],\n        \"semantic_type\": \"\",\n        \"description\": \"\"\n      }\n    },\n    {\n      \"column\": \"pres\",\n      \"properties\": {\n        \"dtype\": \"number\",\n        \"std\": 6.300441258040155,\n        \"min\": 1000.8,\n        \"max\": 1035.4,\n        \"num_unique_values\": 172,\n        \"samples\": [\n          1011.0,\n          1009.3,\n          1025.8\n        ],\n        \"semantic_type\": \"\",\n        \"description\": \"\"\n      }\n    }\n  ]\n}"
            }
          },
          "metadata": {},
          "execution_count": 7
        }
      ]
    },
    {
      "cell_type": "markdown",
      "source": [
        "## Preprocesamiento de datos"
      ],
      "metadata": {
        "id": "7GsRL5znZ3zt"
      }
    },
    {
      "cell_type": "markdown",
      "source": [
        "Aplica soluciones para al menos tres de los cinco problemas típicos que se describieron en la presentación C1.5. Demuestra las modificaciones que se le realizaron a la base de datos, imprimiendo en consola información relevante, y explica por qué se realizaron. Por ejemplo: para el caso de variables cualitativas, podrías imprimir la cantidad y los nombres de las variables antes de aplicar la solución, y la cantidad y los nombres de las variables después de aplicar la solución."
      ],
      "metadata": {
        "id": "Ll_SWINsh8Gg"
      }
    },
    {
      "cell_type": "markdown",
      "source": [
        "### Outliers"
      ],
      "metadata": {
        "id": "0e9fMSeDSQHk"
      }
    },
    {
      "cell_type": "markdown",
      "source": [
        "4. Se identifican valores atípicos para la variable “PM2.5”, utilizando el método de Tukey con k=3.\n",
        "\n"
      ],
      "metadata": {
        "id": "x-Opot93vxbK"
      }
    },
    {
      "cell_type": "code",
      "source": [
        "# Cuartil uno\n",
        "Q1 = df_concat[\"PM2.5 (ug/m³)\"].quantile(0.25)\n",
        "\n",
        "# Cuartil tres\n",
        "Q3 = df_concat[\"PM2.5 (ug/m³)\"].quantile(0.75)\n",
        "\n",
        "# Rango intercuartil\n",
        "IQR = Q3 - Q1\n",
        "\n",
        "# Limites\n",
        "lower_bound = Q1 - 3 * IQR\n",
        "upper_bound = Q3 + 3 * IQR\n",
        "\n",
        "# Observaciones fuera de cualquiera de los límites\n",
        "outliers = df_concat[(df_concat[\"PM2.5 (ug/m³)\"] < lower_bound) | (df_concat[\"PM2.5 (ug/m³)\"] > upper_bound)]\n",
        "\n",
        "# Imprimir los valores atípicos\n",
        "print(f\"Rango normal de valores: ({lower_bound}, {upper_bound})\")\n",
        "print(\"Valores atípicos en PM2.5:\")\n",
        "print(outliers)"
      ],
      "metadata": {
        "colab": {
          "base_uri": "https://localhost:8080/"
        },
        "id": "N2aLfeZswHDx",
        "outputId": "05f71001-bfcf-4faf-9f57-eb4cdebf34bb"
      },
      "execution_count": 8,
      "outputs": [
        {
          "output_type": "stream",
          "name": "stdout",
          "text": [
            "Rango normal de valores: (-15.0, 48.0)\n",
            "Valores atípicos en PM2.5:\n",
            "         Fecha  PM2.5 (ug/m³)  tavg  tmin  tmax  prcp   wdir  wspd    pres\n",
            "23  2022-01-24           55.0   9.6   6.6  13.6   5.1  319.0   3.9  1014.7\n",
            "335 2022-12-02           51.0  16.6  12.4  22.6   0.0  182.0   5.7  1019.8\n"
          ]
        }
      ]
    },
    {
      "cell_type": "markdown",
      "source": [
        "- De los resultados, se puede observar que dos registros tienen valores atípicos arriba de lo normal (**48 ug/m<sup>3</sup>**), debido a que son registros con valores que pueden afectar el ajuste del modelo, considero que la mejor opción sería eliminarlos del dataframe."
      ],
      "metadata": {
        "id": "PX3uVB_DvAA5"
      }
    },
    {
      "cell_type": "code",
      "source": [
        "# Eliminar outliers\n",
        "df_concat = df_concat[(df_concat[\"PM2.5 (ug/m³)\"] >= lower_bound) & (df_concat[\"PM2.5 (ug/m³)\"] <= upper_bound)]\n",
        "\n",
        "# Comprobar eliminación\n",
        "outliers = df_concat[(df_concat[\"PM2.5 (ug/m³)\"] < lower_bound) | (df_concat[\"PM2.5 (ug/m³)\"] > upper_bound)]\n",
        "\n",
        "print(\"Valores atípicos en PM2.5:\")\n",
        "print(outliers)"
      ],
      "metadata": {
        "colab": {
          "base_uri": "https://localhost:8080/"
        },
        "id": "hdBhzUZ00dEP",
        "outputId": "dcf65108-23ba-4f14-837a-c2ca647cd86a"
      },
      "execution_count": 9,
      "outputs": [
        {
          "output_type": "stream",
          "name": "stdout",
          "text": [
            "Valores atípicos en PM2.5:\n",
            "Empty DataFrame\n",
            "Columns: [Fecha, PM2.5 (ug/m³), tavg, tmin, tmax, prcp, wdir, wspd, pres]\n",
            "Index: []\n"
          ]
        }
      ]
    },
    {
      "cell_type": "markdown",
      "source": [
        "5. Se identifican valores atípicos para la variable “**prcp**”, utilizando el método de Tukey con k=3."
      ],
      "metadata": {
        "id": "9DJvIaQQESEW"
      }
    },
    {
      "cell_type": "code",
      "source": [
        "# Cuartil uno\n",
        "Q1 = df_concat[\"prcp\"].quantile(0.25)\n",
        "\n",
        "# Cuartil tres\n",
        "Q3 = df_concat[\"prcp\"].quantile(0.75)\n",
        "\n",
        "# Rango intercuartil\n",
        "IQR = Q3 - Q1\n",
        "\n",
        "# Limites\n",
        "lower_bound = Q1 - 3 * IQR\n",
        "upper_bound = Q3 + 3 * IQR\n",
        "\n",
        "# Observaciones fuera de cualquiera de los límites\n",
        "outliers = df_concat[(df_concat[\"prcp\"] < lower_bound) | (df_concat[\"prcp\"] > upper_bound)]\n",
        "\n",
        "# Imprimir los valores atípicos\n",
        "print(f\"Rango normal de valores: ({lower_bound}, {upper_bound})\")\n",
        "print(\"Valores atípicos en prcp:\")\n",
        "print(outliers)"
      ],
      "metadata": {
        "colab": {
          "base_uri": "https://localhost:8080/"
        },
        "id": "QLzwKiIbEfIP",
        "outputId": "48ed93f3-91bb-4966-d817-344b5d3dba19"
      },
      "execution_count": 10,
      "outputs": [
        {
          "output_type": "stream",
          "name": "stdout",
          "text": [
            "Rango normal de valores: (-0.8999999999999999, 1.2)\n",
            "Valores atípicos en prcp:\n",
            "         Fecha  PM2.5 (ug/m³)  tavg  tmin  tmax  prcp   wdir  wspd    pres\n",
            "20  2022-01-21           28.0   5.2   1.8   9.7   3.6   30.0  12.5  1028.5\n",
            "24  2022-01-25           16.0  14.4   7.9  24.2   1.3   68.0   7.5  1015.3\n",
            "26  2022-01-27           18.0  12.8  11.9  14.4   3.0  119.0   7.3  1021.8\n",
            "27  2022-01-28           14.0  10.5   7.9  12.9   6.2  352.0  10.4  1029.6\n",
            "104 2022-04-15           27.0  26.0  21.8  33.5   2.7  128.0  14.1  1009.6\n",
            "107 2022-04-18           19.0  26.7  23.4  30.6   2.0  114.0  12.1  1014.6\n",
            "108 2022-04-19           11.0  24.7  20.8  31.5   4.2  121.0  23.8  1013.9\n",
            "111 2022-04-22           24.0  25.9  20.6  33.2   1.6  121.0  23.3  1014.0\n",
            "114 2022-04-25           22.0  24.6  19.6  29.4  18.5  118.0  11.5  1011.1\n",
            "115 2022-04-26            7.0  21.3  18.2  25.0  11.6   27.0   9.7  1020.3\n",
            "120 2022-05-01           19.0  26.0  21.8  32.4   1.6  122.0  20.9  1008.8\n",
            "141 2022-05-22           24.0  26.0  22.1  31.6  16.6  108.0  10.1  1014.0\n",
            "142 2022-05-23           15.0  24.6  20.6  32.2  22.3  110.0  17.6  1011.5\n",
            "177 2022-06-27           13.0  28.5  23.5  37.0   1.4  106.0   9.3  1016.9\n",
            "178 2022-06-28           13.0  27.9  23.6  33.7  15.3   92.0   7.2  1017.2\n",
            "179 2022-06-29           13.0  26.9  21.8  34.6   2.5   85.0   5.6  1017.7\n",
            "223 2022-08-12           11.0  28.0  23.5  36.6   9.5   70.0   9.1  1014.2\n",
            "224 2022-08-13           10.0  26.3  22.1  30.6   3.2   78.0   6.8  1013.9\n",
            "225 2022-08-14           12.0  25.1  22.1  35.0  34.0   14.0   5.8  1011.8\n",
            "226 2022-08-15           20.0  26.3  22.6  32.8   5.8  101.0  10.1  1009.8\n",
            "234 2022-08-23           12.0  29.7  24.9  35.4   3.1   43.0  10.5  1009.3\n",
            "236 2022-08-25           14.0  28.2  24.5  35.2   1.8   11.0  10.0  1013.1\n",
            "237 2022-08-26           13.0  26.7  22.6  33.8  17.8   62.0   7.9  1013.5\n",
            "238 2022-08-27           15.0  26.9  23.1  31.9   1.7  113.0   8.0  1010.7\n",
            "240 2022-08-29           13.0  28.6  23.9  35.8   1.6  104.0   9.2  1009.3\n",
            "242 2022-08-31            8.0  25.8  21.6  31.8   1.3  109.0  10.4  1013.9\n",
            "245 2022-09-03            8.0  24.5  21.6  29.1   9.8  119.0   9.4  1015.5\n",
            "246 2022-09-04            8.0  23.7  21.4  28.8  16.8  127.0   9.2  1014.9\n",
            "247 2022-09-05            7.0  22.4  20.8  24.6  19.9  115.0   8.6  1014.3\n",
            "248 2022-09-06           16.0  22.8  21.0  27.6  18.5   99.0   6.2  1016.7\n",
            "249 2022-09-07           12.0  24.3  20.6  33.2   3.6  355.0   5.6  1016.1\n",
            "252 2022-09-10           15.0  25.8  20.1  32.8   2.1  125.0   7.3  1011.5\n",
            "260 2022-09-18            8.0  25.9  22.1  32.5   1.6  118.0  14.8  1013.0\n",
            "267 2022-09-25           15.0  25.7  21.1  31.5  14.5   53.0   7.7  1013.1\n",
            "268 2022-09-26           13.0  23.2  20.1  30.4  11.8  298.0   6.2  1015.8\n",
            "276 2022-10-04           11.0  21.8  19.9  25.0   3.2   92.0   5.3  1017.1\n",
            "278 2022-10-06           13.0  22.4  18.2  27.6   6.0   73.0   6.7  1018.8\n",
            "279 2022-10-07           11.0  20.5  17.5  25.4  14.2  243.0   6.4  1021.3\n",
            "289 2022-10-17           13.0  24.8  20.6  31.0   9.2   97.0  11.8  1012.5\n",
            "290 2022-10-18            9.0  15.3  13.4  19.6   4.1  349.0  13.7  1022.8\n",
            "303 2022-10-31           21.0  19.1  16.4  23.1   2.7  116.0   8.7  1013.6\n",
            "304 2022-11-01           11.0  20.6  18.2  24.6   5.7  351.0  10.9  1017.3\n",
            "305 2022-11-02           14.0  20.1  17.6  23.6   2.8  124.0   9.7  1019.7\n",
            "321 2022-11-18           11.0   9.9   8.7  12.0   3.4   62.0   5.2  1023.9\n",
            "322 2022-11-19            6.0   9.1   7.7  10.2   4.6  346.0  17.8  1025.8\n",
            "337 2022-12-04           19.0  18.7  17.2  21.2   4.0  121.0   6.2  1021.3\n",
            "340 2022-12-07           24.0  20.1  17.1  23.6   2.1   91.0   6.7  1018.3\n"
          ]
        }
      ]
    },
    {
      "cell_type": "markdown",
      "source": [
        "- En este caso, el método arrojó muchos valores atípicos en **prcp** (nivel de precipitación), sin embargo, esto no quiere decir que sean errores de medición que se deban de eliminar, ya que solo son los días que llovió en la ciudad y no representan la mayoría de los días del año, son solo unos cuantos. Por otro lado, los días que no llueve tienen cero en esta variable, y como si representa la mayoría de registros hace que el rango de valores normales sea pequeño y muy cercano a cero, por lo tanto no considera los días que si llueve."
      ],
      "metadata": {
        "id": "8ymGluVTF4do"
      }
    },
    {
      "cell_type": "markdown",
      "source": [
        "- No se observan más valores atípicos en otras variables."
      ],
      "metadata": {
        "id": "WMUruJy4Hmsz"
      }
    },
    {
      "cell_type": "markdown",
      "source": [
        "### Colinealidad"
      ],
      "metadata": {
        "id": "9gElot3SSZxt"
      }
    },
    {
      "cell_type": "markdown",
      "source": [
        "6. Se genera una matriz de correlaciones para encontrar potenciales problemas de colinealidad. Se genera un heatmap para visualizar de forma sencilla los resultados y se determina si es necesario eliminar una o múltiples variables."
      ],
      "metadata": {
        "id": "XTmt-UuEHzTP"
      }
    },
    {
      "cell_type": "code",
      "source": [
        "import numpy as np\n",
        "from seaborn import heatmap\n",
        "import matplotlib.pyplot as plt\n",
        "\n",
        "# Obtener valor absoluto de matriz de correlación\n",
        "df_corr = df_concat.corr()\n",
        "\n",
        "# Llenar la diagonal con ceros\n",
        "np.fill_diagonal(df_corr.values, 0)\n",
        "\n",
        "# Obtener los índices (i, j) de la posicion del valor máximo\n",
        "i,j = np.unravel_index(np.abs(df_corr.values).argmax(), df_corr.shape)\n",
        "\n",
        "# Imprimir los índices y el valor de la correlación máxima\n",
        "print(f\"Indices con mayor correlación: ({i}, {j})\")\n",
        "print(f\"Valor de correlación máxima: {df_corr.iloc[i,j]}\")\n",
        "\n",
        "%matplotlib inline\n",
        "\n",
        "# Generar un heatmap para visualizar los resultados\n",
        "plt.figure(figsize=(10,8))\n",
        "heatmap(df_corr, annot=True, cmap=\"coolwarm\", fmt=\".2f\")\n",
        "plt.title(\"Heatmap de correlaciones\")"
      ],
      "metadata": {
        "colab": {
          "base_uri": "https://localhost:8080/",
          "height": 837
        },
        "id": "_AmMWhWuHrP5",
        "outputId": "820b8676-1c32-4159-cfa7-7d3326ed2f68"
      },
      "execution_count": 11,
      "outputs": [
        {
          "output_type": "stream",
          "name": "stdout",
          "text": [
            "Indices con mayor correlación: (2, 4)\n",
            "Valor de correlación máxima: 0.9625453160037548\n"
          ]
        },
        {
          "output_type": "execute_result",
          "data": {
            "text/plain": [
              "Text(0.5, 1.0, 'Heatmap de correlaciones')"
            ]
          },
          "metadata": {},
          "execution_count": 11
        },
        {
          "output_type": "display_data",
          "data": {
            "text/plain": [
              "<Figure size 1000x800 with 2 Axes>"
            ],
            "image/png": "[encoded data removed]"
          },
          "metadata": {}
        }
      ]
    },
    {
      "cell_type": "markdown",
      "source": [
        "Observaciones:\n",
        "- La mayor correlación se tiene entre las variables **tavg** con **tmax** y **tmin** (**0.96**).\n",
        "- La segunda mayor correlación se tiene entre las variables **tmax** y **tmin** (**0.86**).\n",
        "- Hay una fuerte correlación negativa entre la presión y las 3 variables de temperaturas (**tmax**, **tmin**, **tavg**) (**-0.79**).\n",
        "- Se presenta una correlación positiva moderada (**0.45**) entre la velocidad del viento y las 3 variables de temperaturas.  \n",
        "\n",
        "Las 2 primeras observaciones se deben a que las tres son mediciones de temperaturas del día, y es obvio que tendrán una alta correlación entre ellas. Por lo tanto, para evitar la redundancia será mejor dejar una sola, la más significativa (**tavg**), y eliminar las otras 2 redundantes (**tmax** y **tmin**).\n",
        "En el caso de las otras correlaciones, como no se trata de variables similares y tampoco de correlaciones muy fuertes, se pueden quedar así."
      ],
      "metadata": {
        "id": "RdJ1FNvOLQXU"
      }
    },
    {
      "cell_type": "markdown",
      "source": [
        "- Se eliminan las variables **tmax** y **tmin** del dataframe."
      ],
      "metadata": {
        "id": "hcyLOczRQ386"
      }
    },
    {
      "cell_type": "code",
      "source": [
        "# Se eliminan las variables\n",
        "df_concat = df_concat.drop([\"tmax\", \"tmin\"], axis=1)\n",
        "\n",
        "# Se comprueba la eliminación imprimiendo las variables existentes\n",
        "print(df_concat.dtypes)"
      ],
      "metadata": {
        "colab": {
          "base_uri": "https://localhost:8080/"
        },
        "id": "gfDlX-AYRAub",
        "outputId": "e05b6e1a-7ee8-446e-bc2d-be0c61902989"
      },
      "execution_count": 12,
      "outputs": [
        {
          "output_type": "stream",
          "name": "stdout",
          "text": [
            "Fecha            datetime64[ns]\n",
            "PM2.5 (ug/m³)           float64\n",
            "tavg                    float64\n",
            "prcp                    float64\n",
            "wdir                    float64\n",
            "wspd                    float64\n",
            "pres                    float64\n",
            "dtype: object\n"
          ]
        }
      ]
    },
    {
      "cell_type": "markdown",
      "source": [
        "Al no mostrarse las variables **tmax** y **tmin** quiere decir que se eliminaron exitosamente del dataframe."
      ],
      "metadata": {
        "id": "gGozoqjDR8Aw"
      }
    },
    {
      "cell_type": "markdown",
      "source": [
        "### Huecos"
      ],
      "metadata": {
        "id": "npSB6RY2a_Df"
      }
    },
    {
      "cell_type": "markdown",
      "source": [
        "7. Anteriormente, en la fase de limpieza de datos se eliminaron del dataframe 9 registros que no tenían valores válidos en casi todos sus registros."
      ],
      "metadata": {
        "id": "OPHQ_ohMbCLF"
      }
    },
    {
      "cell_type": "markdown",
      "source": [
        "### Interacciones"
      ],
      "metadata": {
        "id": "7FIycHpcbmTY"
      }
    },
    {
      "cell_type": "markdown",
      "source": [
        "8. De acuerdo a la matriz de correlaciones obtenida anteriormente, se pueden deducir las siguientes interacciones que podrían afectar los niveles de PM2.5:\n",
        " - **Temperatura promedio** con **Presión atmosferica** (-0.79): Esto puede decir que los días más calidos tienden a tener menor presión atmosférica, lo que podría afectar la dispersión de contaminantes. Se puede agregar la interacción **tavg x pres** para evaluar si influye en **PM2.5**.\n",
        " - **Temperatura promedio** con **Velocidad del viento** (0.44): Esto puede decir que los días con mayor temperatura suelen tener más viento, lo que podría influir en la dispersión de contaminantes. Se puede agregar la interacción **wspd x tavg** para evaluar el impacto en **PM2.5**.\n",
        " - **Precipitación** con **Presión atmosférica**: Existe una correlación baja negativa (-0.13) entre las variables de precipitación (prcp) y las partículas PM2.5, aunque sea baja también se sabe que los altos niveles de lluvia pueden reducir la contaminación, por lo tanto, se puede agregar la interacción **prcp x pres** para ver el impacto en **PM2.5**.\n",
        "\n",
        " A continuación, se agregan estas interacciones"
      ],
      "metadata": {
        "id": "RV24rVVKbqOZ"
      }
    },
    {
      "cell_type": "code",
      "source": [
        "# Crear variables de interacción en el DataFrame\n",
        "df_concat[\"tavg_pres\"] = df_concat[\"tavg\"] * df_concat[\"pres\"]\n",
        "df_concat[\"tavg_wspd\"] = df_concat[\"tavg\"] * df_concat[\"wspd\"]\n",
        "df_concat[\"prcp_pres\"] = df_concat[\"prcp\"] * df_concat[\"pres\"]\n",
        "\n",
        "# Ver las nuevas variables creadas\n",
        "print(df_concat.head())"
      ],
      "metadata": {
        "colab": {
          "base_uri": "https://localhost:8080/"
        },
        "id": "iBOIX-vZRgYC",
        "outputId": "636fbf0a-130d-4dba-b637-47409b01d291"
      },
      "execution_count": 13,
      "outputs": [
        {
          "output_type": "stream",
          "name": "stdout",
          "text": [
            "       Fecha  PM2.5 (ug/m³)  tavg  prcp   wdir  wspd    pres  tavg_pres  \\\n",
            "0 2022-01-01           16.0  25.1   0.0  288.0   8.7  1005.4   25235.54   \n",
            "1 2022-01-02            8.0  14.1   0.0  358.0  20.7  1024.2   14441.22   \n",
            "2 2022-01-03            6.0   8.1   0.0   80.0   7.6  1030.5    8347.05   \n",
            "3 2022-01-04           19.0  11.8   0.0  158.0   5.9  1020.9   12046.62   \n",
            "4 2022-01-05           15.0  17.1   0.0  270.0   6.9  1012.7   17317.17   \n",
            "\n",
            "   tavg_wspd  prcp_pres  \n",
            "0     218.37        0.0  \n",
            "1     291.87        0.0  \n",
            "2      61.56        0.0  \n",
            "3      69.62        0.0  \n",
            "4     117.99        0.0  \n"
          ]
        }
      ]
    },
    {
      "cell_type": "markdown",
      "source": [
        "### Selección de características"
      ],
      "metadata": {
        "id": "YoyfRd-KvOdj"
      }
    },
    {
      "cell_type": "markdown",
      "source": [
        "Realiza un proceso de selección de características. Puedes llevar a cabo una metodología de selección hacia adelante o eliminación hacia atrás, o incluso mezclarlas. También puedes utilizar un método de regularización. Evidencia tus resultados imprimiendo en consola la cantidad y los nombres de las variables antes y después del proceso de selección de características. Explica claramente por qué utilizaste la metodología empleada, así como alguna conclusión sobre los resultados de este proceso."
      ],
      "metadata": {
        "id": "KvhYiwsVlc6G"
      }
    },
    {
      "cell_type": "markdown",
      "source": [
        "9. Se separa el DataFrame en datos de entrenamiento y de prueba con una proporción 70/30, asegurando que la partición sea aleatoria. Se imprime en pantalla las dimensiones de ambos conjuntos de datos, comprobando que la cantidad de observaciones de ambos conjuntos de datos sumen a la cantidad de datos original."
      ],
      "metadata": {
        "id": "_TMD1NJEw5QI"
      }
    },
    {
      "cell_type": "code",
      "source": [
        "from sklearn.model_selection import train_test_split\n",
        "\n",
        "# Separar los datos en conjuntos de entrenamiento y prueba\n",
        "X_train, X_test, Y_train, Y_test = train_test_split(df_concat.drop([\"PM2.5 (ug/m³)\", \"Fecha\"], axis=1), df_concat[\"PM2.5 (ug/m³)\"], test_size=0.3, random_state=42)\n",
        "\n",
        "# Imprimir tamaño de nuevos objetos\n",
        "print(\"Tamaño de X_train:\", X_train.shape)\n",
        "print(\"Tamaño de Y_train:\", Y_train.shape)\n",
        "print(\"Tamaño de X_test:\", X_test.shape)\n",
        "print(\"Tamaño de Y_test:\", Y_test.shape)"
      ],
      "metadata": {
        "colab": {
          "base_uri": "https://localhost:8080/"
        },
        "id": "kBlNmh3Rxad0",
        "outputId": "70219fd7-d6bf-4e59-d5e9-4a37ea838827"
      },
      "execution_count": 14,
      "outputs": [
        {
          "output_type": "stream",
          "name": "stdout",
          "text": [
            "Tamaño de X_train: (254, 8)\n",
            "Tamaño de Y_train: (254,)\n",
            "Tamaño de X_test: (109, 8)\n",
            "Tamaño de Y_test: (109,)\n"
          ]
        }
      ]
    },
    {
      "cell_type": "markdown",
      "source": [
        "10. Debido a que se tiene un número moderado de variables, se emplea la metodología de selección hacia adelante para encontrar el subconjunto óptimo."
      ],
      "metadata": {
        "id": "UT6KFL-nwY0G"
      }
    },
    {
      "cell_type": "code",
      "source": [
        "from sklearn.linear_model import LinearRegression\n",
        "from mlxtend.feature_selection import SequentialFeatureSelector as SFS\n",
        "\n",
        "# Se declara el modelo y se hace la metodología de selección hacia adelante con la función SFS.\n",
        "model = LinearRegression()\n",
        "sfs_forward = SFS(model, k_features='best', forward=True, scoring='r2', cv=5)\n",
        "sfs_forward.fit(X_train, Y_train)\n",
        "\n",
        "# Se imprimen las características seleccionadas\n",
        "selected_features = list(sfs_forward.k_feature_names_)\n",
        "print(\"Características seleccionadas:\", selected_features)"
      ],
      "metadata": {
        "colab": {
          "base_uri": "https://localhost:8080/"
        },
        "id": "qHBNb5Xuhuls",
        "outputId": "1c4f9a1a-e02a-4d75-de1b-14b04a3672b2"
      },
      "execution_count": 15,
      "outputs": [
        {
          "output_type": "stream",
          "name": "stdout",
          "text": [
            "Características seleccionadas: ['tavg', 'prcp', 'wspd', 'pres', 'tavg_pres', 'tavg_wspd', 'prcp_pres']\n"
          ]
        }
      ]
    },
    {
      "cell_type": "markdown",
      "source": [
        "11. Aplicar regularización con Lasso para optimizar un poco más la selección de variables."
      ],
      "metadata": {
        "id": "yr5Xxgeu8Mld"
      }
    },
    {
      "cell_type": "code",
      "source": [
        "from sklearn.linear_model import LassoCV\n",
        "from sklearn.preprocessing import RobustScaler\n",
        "\n",
        "# Filtrar solo las variables seleccionadas por SFS\n",
        "X_train_selected = X_train[selected_features]\n",
        "\n",
        "# Se normalizan los datos\n",
        "scaler = RobustScaler()\n",
        "X_train_scaled = scaler.fit_transform(X_train_selected)\n",
        "\n",
        "# Aplicar Lasso con validación cruzada para encontrar el mejor alpha\n",
        "lasso = LassoCV(cv=5, max_iter=5000, random_state=42).fit(X_train_scaled, Y_train)\n",
        "\n",
        "# Seleccionar las características no eliminadas por Lasso\n",
        "selected_features_lasso = X_train_selected.columns[lasso.coef_ != 0]\n",
        "\n",
        "print(\"Características seleccionadas después de SFS + Lasso:\", list(selected_features_lasso))"
      ],
      "metadata": {
        "colab": {
          "base_uri": "https://localhost:8080/"
        },
        "id": "vVtRF_CV8jJH",
        "outputId": "1ea09ae8-e968-440d-8aec-11c9f0b7c2ec"
      },
      "execution_count": 16,
      "outputs": [
        {
          "output_type": "stream",
          "name": "stdout",
          "text": [
            "Características seleccionadas después de SFS + Lasso: ['prcp', 'wspd', 'pres', 'tavg_pres', 'tavg_wspd']\n"
          ]
        },
        {
          "output_type": "stream",
          "name": "stderr",
          "text": [
            "/usr/local/lib/python3.11/dist-packages/sklearn/linear_model/_coordinate_descent.py:681: ConvergenceWarning: Objective did not converge. You might want to increase the number of iterations. Duality gap: 1.1467614880384644, tolerance: 1.0210519027857072\n",
            "  model = cd_fast.enet_coordinate_descent_gram(\n",
            "/usr/local/lib/python3.11/dist-packages/sklearn/linear_model/_coordinate_descent.py:681: ConvergenceWarning: Objective did not converge. You might want to increase the number of iterations. Duality gap: 1.433492582564213, tolerance: 1.0210519027857072\n",
            "  model = cd_fast.enet_coordinate_descent_gram(\n"
          ]
        }
      ]
    },
    {
      "cell_type": "markdown",
      "source": [
        "Debido a que se tenía un número moderado de variables, más no optimo (10 variables), y se piensa empezar a probar con un modelo simple, se decidió reducir el número las variables regresoras utilizando la metodología de selección hacia adelante. Al aplicarse se obtuvo una lista de 7 variables que serían las mas relevantes para la aplicación del modelo.\n",
        "\n",
        "Posteriormente, con la finalidad de reducir el sobreajuste que se pueden dar con ciertas variables como **tavg** y **tavg_pres**, se decidió usar el método de regularización Lasso para optimizar un poco más la selección de variables sobre las ya seleccionadas. Al aplicarse se obtuvo una lista de solo 5 variables que vendrían siendo las más importantes para la aplicación del modelo."
      ],
      "metadata": {
        "id": "R0hftQ2yEFM2"
      }
    },
    {
      "cell_type": "markdown",
      "source": [
        "## Aplicación de modelos"
      ],
      "metadata": {
        "id": "6QrT_NVReH3M"
      }
    },
    {
      "cell_type": "markdown",
      "source": [
        "Genera un modelo de regresión lineal y al menos uno no lineal, para predecir una variable\n",
        "de interés; explica con detalle por qué seguiste los pasos mostrados en tu código para\n",
        "generar el modelo, en aras de obtener la mejor predicción y resultados generalizables.\n",
        "Imprime en consola los coeficientes estimados al entrenar el modelo, e indica para cuáles\n",
        "de ellos puedes afirmar que existe una asociación significativa con la respuesta, y el por\n",
        "qué de tu aseveración."
      ],
      "metadata": {
        "id": "SVIjAzb7eMCS"
      }
    },
    {
      "cell_type": "markdown",
      "source": [
        "### Regresión lineal"
      ],
      "metadata": {
        "id": "fnQMPV1-XkXE"
      }
    },
    {
      "cell_type": "markdown",
      "source": [
        "12. Se genera un modelo de regresión lineal para predecir el nivel de PM2.5 en base a las variables meteorológicas seleccionadas anteriormente."
      ],
      "metadata": {
        "id": "hEhGAyUCen1K"
      }
    },
    {
      "cell_type": "code",
      "source": [
        "import statsmodels.api as sm\n",
        "\n",
        "X_train_selected = X_train[selected_features_lasso]\n",
        "\n",
        "# Generar el modelo\n",
        "linear_model = sm.OLS(Y_train, sm.add_constant(X_train_selected))\n",
        "\n",
        "# Entrenar el modelo\n",
        "results = linear_model.fit()\n",
        "\n",
        "# Imprimir resultados del modelo\n",
        "print(results.summary())"
      ],
      "metadata": {
        "colab": {
          "base_uri": "https://localhost:8080/"
        },
        "id": "-iBep5-UfL1K",
        "outputId": "eb6b1fad-b398-4671-bf2f-bd443c281f67"
      },
      "execution_count": 40,
      "outputs": [
        {
          "output_type": "stream",
          "name": "stdout",
          "text": [
            "                            OLS Regression Results                            \n",
            "==============================================================================\n",
            "Dep. Variable:          PM2.5 (ug/m³)   R-squared:                       0.200\n",
            "Model:                            OLS   Adj. R-squared:                  0.184\n",
            "Method:                 Least Squares   F-statistic:                     12.42\n",
            "Date:                Thu, 20 Feb 2025   Prob (F-statistic):           9.13e-11\n",
            "Time:                        09:12:05   Log-Likelihood:                -833.72\n",
            "No. Observations:                 254   AIC:                             1679.\n",
            "Df Residuals:                     248   BIC:                             1701.\n",
            "Df Model:                           5                                         \n",
            "Covariance Type:            nonrobust                                         \n",
            "==============================================================================\n",
            "                 coef    std err          t      P>|t|      [0.025      0.975]\n",
            "------------------------------------------------------------------------------\n",
            "const        783.7255    111.214      7.047      0.000     564.681    1002.770\n",
            "prcp          -0.2164      0.127     -1.709      0.089      -0.466       0.033\n",
            "wspd          -1.1816      0.375     -3.148      0.002      -1.921      -0.442\n",
            "pres          -0.7329      0.107     -6.822      0.000      -0.944      -0.521\n",
            "tavg_pres     -0.0009      0.000     -4.816      0.000      -0.001      -0.001\n",
            "tavg_wspd      0.0452      0.015      3.064      0.002       0.016       0.074\n",
            "==============================================================================\n",
            "Omnibus:                       73.628   Durbin-Watson:                   1.932\n",
            "Prob(Omnibus):                  0.000   Jarque-Bera (JB):              172.335\n",
            "Skew:                           1.367   Prob(JB):                     3.78e-38\n",
            "Kurtosis:                       5.968   Cond. No.                     6.55e+06\n",
            "==============================================================================\n",
            "\n",
            "Notes:\n",
            "[1] Standard Errors assume that the covariance matrix of the errors is correctly specified.\n",
            "[2] The condition number is large, 6.55e+06. This might indicate that there are\n",
            "strong multicollinearity or other numerical problems.\n"
          ]
        }
      ]
    },
    {
      "cell_type": "markdown",
      "source": [
        "13. Se genera la gráfica de comparación de valores predictivos y valores reales."
      ],
      "metadata": {
        "id": "Rpf2NEp9h8ct"
      }
    },
    {
      "cell_type": "code",
      "source": [
        "# Predecir peso de observaciones de prueba\n",
        "yHatLineal = results.predict(sm.add_constant(X_test[selected_features_lasso]))\n",
        "\n",
        "# Generar gráfica de dispersión\n",
        "plt.scatter(Y_test, yHatLineal, label=\"Datos\", color=\"blue\")\n",
        "\n",
        "# Agregar línea roja de referencia\n",
        "min_val = min(min(Y_test), min(yHatLineal)) # Mínimo de ambos ejes\n",
        "max_val = max(max(Y_test), max(yHatLineal)) # Máximo de ambos ejes\n",
        "plt.plot([min_val, max_val], [min_val, max_val], color=\"red\", linestyle=\"--\", label=\"Referencia (y=x)\")\n",
        "\n",
        "# Etiquetas y título\n",
        "plt.xlabel(\"PM2.5 Real (Y_test)\")\n",
        "plt.ylabel(\"PM2.5 Predicho (yHat)\")\n",
        "plt.title(\"Comparación entre PM2.5 Real y Predicho\")\n",
        "plt.legend()"
      ],
      "metadata": {
        "colab": {
          "base_uri": "https://localhost:8080/",
          "height": 490
        },
        "id": "REZoJnGaiFYz",
        "outputId": "f289ac64-8a83-4bab-b41b-9d5b45945f95"
      },
      "execution_count": 41,
      "outputs": [
        {
          "output_type": "execute_result",
          "data": {
            "text/plain": [
              "<matplotlib.legend.Legend at 0x78f03c781650>"
            ]
          },
          "metadata": {},
          "execution_count": 41
        },
        {
          "output_type": "display_data",
          "data": {
            "text/plain": [
              "<Figure size 640x480 with 1 Axes>"
            ],
            "image/png": "[encoded data removed]"
          },
          "metadata": {}
        }
      ]
    },
    {
      "cell_type": "markdown",
      "source": [
        "Con las características seleccionadas previamente, se generó un modelo de regresión líneal para predecir los valores de PM2.5. Posteriormente se graficó los valores reales de Y con los valores predichos por el modelo generado. De acuerdo a los resultados, se puede observar que el modelo lineal en realidad no tiene un buen ajuste, con una R<sup>2</sup> de apenas 0.2, el modelo solo explica el 20% del comportamiento de los datos. El valor del estadístico F no es alto (12.42), lo cual significa que el modelo no es muy significativo, sin embargo por lo menos una variable si es significativa. Los p-values de las variables meteorológicas se mantienen por debajo de 0.05 a excepción de una, el nivel de precipitación, la cual tiene un p-value de 0.08. Debido a que el modelo no parece tener un buen ajuste, la mejor opción será probar con otros."
      ],
      "metadata": {
        "id": "WPimrHDUna5j"
      }
    },
    {
      "cell_type": "markdown",
      "source": [
        "### Regresión polinomial cuadrática"
      ],
      "metadata": {
        "id": "WlthtSzvYGgm"
      }
    },
    {
      "cell_type": "markdown",
      "source": [
        "14. Se entrena un modelo de regresión polinomial cuadrática usando los datos de entrenamiento. Se imprime un resumen de los datos obtenidos y se emplea una gráfica para analizar las diferencias entre los datos reales y predichos."
      ],
      "metadata": {
        "id": "DFf8AIhTYKKS"
      }
    },
    {
      "cell_type": "code",
      "source": [
        "from sklearn.preprocessing import PolynomialFeatures\n",
        "import statsmodels.api as sm\n",
        "\n",
        "# Generar polinomiales de grado 2 y ajustar los datos\n",
        "polyq_train = PolynomialFeatures(degree=2).fit(X_train_selected)\n",
        "polyq_test = PolynomialFeatures(degree=2).fit(X_test[selected_features_lasso])\n",
        "\n",
        "# TransformR los datos para que incluyan el polinomial de segundo orden.\n",
        "Xq_train = pd.DataFrame(polyq_train.transform(X_train_selected))\n",
        "Xq_test = pd.DataFrame(polyq_test.transform(X_test[selected_features_lasso]))\n",
        "\n",
        "# Generar y entrenar el modelo\n",
        "mq = sm.OLS(list(Y_train), Xq_train).fit()\n",
        "\n",
        "# Imprimir resultados\n",
        "print(mq.summary())"
      ],
      "metadata": {
        "id": "r0T288OcnakI",
        "colab": {
          "base_uri": "https://localhost:8080/"
        },
        "outputId": "09d0ad5e-a16d-4f26-c5f5-5f23ea55d5dc"
      },
      "execution_count": 42,
      "outputs": [
        {
          "output_type": "stream",
          "name": "stdout",
          "text": [
            "                            OLS Regression Results                            \n",
            "==============================================================================\n",
            "Dep. Variable:                      y   R-squared:                       0.255\n",
            "Model:                            OLS   Adj. R-squared:                  0.195\n",
            "Method:                 Least Squares   F-statistic:                     4.218\n",
            "Date:                Thu, 20 Feb 2025   Prob (F-statistic):           5.48e-08\n",
            "Time:                        09:13:27   Log-Likelihood:                -824.69\n",
            "No. Observations:                 254   AIC:                             1689.\n",
            "Df Residuals:                     234   BIC:                             1760.\n",
            "Df Model:                          19                                         \n",
            "Covariance Type:            nonrobust                                         \n",
            "==============================================================================\n",
            "                 coef    std err          t      P>|t|      [0.025      0.975]\n",
            "------------------------------------------------------------------------------\n",
            "0          -6495.0301    2.5e+04     -0.260      0.795   -5.57e+04    4.27e+04\n",
            "1            -41.7613     71.727     -0.582      0.561    -183.074      99.551\n",
            "2            -22.4450    121.739     -0.184      0.854    -262.290     217.400\n",
            "3             12.9465     48.301      0.268      0.789     -82.214     108.107\n",
            "4              0.0118      0.072      0.163      0.870      -0.131       0.154\n",
            "5              2.9423      5.136      0.573      0.567      -7.177      13.062\n",
            "6              0.0153      0.028      0.541      0.589      -0.040       0.071\n",
            "7              0.6543      0.430      1.521      0.130      -0.193       1.502\n",
            "8              0.0347      0.070      0.496      0.620      -0.103       0.173\n",
            "9              0.0002      0.000      1.501      0.135   -7.49e-05       0.001\n",
            "10            -0.0263      0.018     -1.462      0.145      -0.062       0.009\n",
            "11             0.1760      0.244      0.722      0.471      -0.304       0.656\n",
            "12             0.0176      0.116      0.152      0.880      -0.211       0.247\n",
            "13            -0.0006      0.004     -0.164      0.870      -0.008       0.007\n",
            "14            -0.0102      0.024     -0.427      0.670      -0.057       0.037\n",
            "15            -0.0064      0.023     -0.274      0.784      -0.052       0.040\n",
            "16         -1.247e-05   6.88e-05     -0.181      0.856      -0.000       0.000\n",
            "17            -0.0020      0.003     -0.622      0.535      -0.009       0.004\n",
            "18         -9.382e-09   9.34e-08     -0.100      0.920   -1.93e-07    1.75e-07\n",
            "19         -1.817e-06   1.44e-05     -0.126      0.900   -3.02e-05    2.65e-05\n",
            "20             0.0001      0.001      0.242      0.809      -0.001       0.001\n",
            "==============================================================================\n",
            "Omnibus:                       71.211   Durbin-Watson:                   1.876\n",
            "Prob(Omnibus):                  0.000   Jarque-Bera (JB):              165.380\n",
            "Skew:                           1.324   Prob(JB):                     1.22e-36\n",
            "Kurtosis:                       5.935   Cond. No.                     1.82e+19\n",
            "==============================================================================\n",
            "\n",
            "Notes:\n",
            "[1] Standard Errors assume that the covariance matrix of the errors is correctly specified.\n",
            "[2] The smallest eigenvalue is 3.22e-19. This might indicate that there are\n",
            "strong multicollinearity problems or that the design matrix is singular.\n"
          ]
        }
      ]
    },
    {
      "cell_type": "markdown",
      "source": [
        "15. Se genera la gráfica de comparación de valores predictivos y valores reales."
      ],
      "metadata": {
        "id": "zFPAHHi-tlry"
      }
    },
    {
      "cell_type": "code",
      "source": [
        "import seaborn as sns\n",
        "\n",
        "# Predicción y evaluación del modelo\n",
        "yHatQuad = mq.predict(Xq_test)\n",
        "\n",
        "# Graficar valores realves vs predichos\n",
        "plt.figure(figsize=(10, 8))\n",
        "sns.scatterplot(x=Y_test, y=yHatQuad, color=\"blue\", label=\"Datos\", alpha=0.6)\n",
        "\n",
        "# Dibujar la línea de referencia perfecta (y = x)\n",
        "plt.plot([min(Y_test), max(Y_test)], [min(Y_test), max(Y_test)], color=\"red\", linestyle=\"--\", label=\"Ideal (y = y)\")\n",
        "\n",
        "# Etiquetas y título\n",
        "plt.xlabel(\"Valores Reales (Y)\")\n",
        "plt.ylabel(\"Valores Predichos (Ŷ)\")\n",
        "plt.title(\"Comparación de Valores Reales vs. Predichos\")\n",
        "plt.legend()\n"
      ],
      "metadata": {
        "colab": {
          "base_uri": "https://localhost:8080/",
          "height": 737
        },
        "id": "hYLd0gIPtq2j",
        "outputId": "53096cb7-59f0-4d43-9d65-8b0bcf370ac3"
      },
      "execution_count": 43,
      "outputs": [
        {
          "output_type": "execute_result",
          "data": {
            "text/plain": [
              "<matplotlib.legend.Legend at 0x78f037f5c9d0>"
            ]
          },
          "metadata": {},
          "execution_count": 43
        },
        {
          "output_type": "display_data",
          "data": {
            "text/plain": [
              "<Figure size 1000x800 with 1 Axes>"
            ],
            "image/png": "[encoded data removed]"
          },
          "metadata": {}
        }
      ]
    },
    {
      "cell_type": "markdown",
      "source": [
        "En este caso, el **modelo polinomial cuadrático** tampoco demuestra tener un buen ajuste, con una R<sup>2</sup> de 0.255, el modelo apenas explica el comportamiento del 25% de los datos, el estadístico F es igual de bajo y se tienen muchas variables generadas que no son significantes para el modelo (p-values superiores a 0.05), aparte de que aparentemente tienen problemas de colinealidad entre ellas. En la gráfica se puede observar una dispersión mayor de los valores, indicando las grandes diferencias entre valores reales y predichos y poniendo en evidencia la falta de precisión de este modelo."
      ],
      "metadata": {
        "id": "3D5OrjT7w2hp"
      }
    },
    {
      "cell_type": "markdown",
      "source": [
        "### Arboles de decisión"
      ],
      "metadata": {
        "id": "Wfl1Breu2OUT"
      }
    },
    {
      "cell_type": "markdown",
      "source": [
        "16. Se trata de implementar un modelo de árbol de decisión para analizar el comportamiento."
      ],
      "metadata": {
        "id": "lbXv5Mrv2Twf"
      }
    },
    {
      "cell_type": "code",
      "source": [
        "from sklearn.tree import DecisionTreeRegressor\n",
        "from sklearn.metrics import r2_score\n",
        "\n",
        "tree = DecisionTreeRegressor(max_depth=5, random_state=42)\n",
        "tree.fit(X_train_selected, Y_train)\n",
        "yHatTree = tree.predict(X_test[selected_features_lasso])\n",
        "\n",
        "print(f\"R2 del árbol de decision (entrenamiento): {r2_score(Y_test, yHatTree):.4f}\")"
      ],
      "metadata": {
        "colab": {
          "base_uri": "https://localhost:8080/"
        },
        "id": "iq2KowDV2fmP",
        "outputId": "b67286bf-59d7-4965-bcbc-e9edc7a52b2b"
      },
      "execution_count": 46,
      "outputs": [
        {
          "output_type": "stream",
          "name": "stdout",
          "text": [
            "R2 del árbol de decision (entrenamiento): -0.2415\n"
          ]
        }
      ]
    },
    {
      "cell_type": "markdown",
      "source": [
        "17. Se genera la gráfica para este modelo."
      ],
      "metadata": {
        "id": "YytKkMVD37zl"
      }
    },
    {
      "cell_type": "code",
      "source": [
        "# Graficar valores realves vs predichos\n",
        "plt.figure(figsize=(10, 8))\n",
        "sns.scatterplot(x=Y_test, y=yHatTree, color=\"blue\", label=\"Datos\", alpha=0.6)\n",
        "\n",
        "# Dibujar la línea de referencia perfecta (y = x)\n",
        "plt.plot([min(Y_test), max(Y_test)], [min(Y_test), max(Y_test)], color=\"red\", linestyle=\"--\", label=\"Ideal (y = y)\")\n",
        "\n",
        "# Etiquetas y título\n",
        "plt.xlabel(\"Valores Reales (Y)\")\n",
        "plt.ylabel(\"Valores Predichos (Ŷ)\")\n",
        "plt.title(\"Comparación de Valores Reales vs. Predichos\")\n",
        "plt.legend()"
      ],
      "metadata": {
        "colab": {
          "base_uri": "https://localhost:8080/",
          "height": 737
        },
        "id": "iTbiPlrq3_Xi",
        "outputId": "b18a5d01-98a9-4983-b8c5-a7bfd20bd52d"
      },
      "execution_count": 47,
      "outputs": [
        {
          "output_type": "execute_result",
          "data": {
            "text/plain": [
              "<matplotlib.legend.Legend at 0x78f03c0c23d0>"
            ]
          },
          "metadata": {},
          "execution_count": 47
        },
        {
          "output_type": "display_data",
          "data": {
            "text/plain": [
              "<Figure size 1000x800 with 1 Axes>"
            ],
            "image/png": "[encoded data removed]"
          },
          "metadata": {}
        }
      ]
    },
    {
      "cell_type": "markdown",
      "source": [
        "La R<sup>2</sup> del modelo de árbol de decisión resulto ser negativa, lo cual índica que el modelo es malo y no explica el comportamiento de los datos en la variable dependiente (**PM2.5**) con respecto a las variables independientes seleccionadas anteriormente. En la gráfica se puede visualizar que los valores predichos de PM2.5 no se ajustan para nada a los valores reales y hay diferencias grandes."
      ],
      "metadata": {
        "id": "JvCyopzQYPQR"
      }
    },
    {
      "cell_type": "markdown",
      "source": [
        "### Regresión polinomial grado 5"
      ],
      "metadata": {
        "id": "rc1aNv1rgp7o"
      }
    },
    {
      "cell_type": "markdown",
      "source": [
        "18. Se entrena un modelo de regresión polinomial de grado 5."
      ],
      "metadata": {
        "id": "7IvK57HEgv2U"
      }
    },
    {
      "cell_type": "code",
      "source": [
        "from sklearn.preprocessing import PolynomialFeatures\n",
        "import statsmodels.api as sm\n",
        "\n",
        "# Generar polinomiales de grado 5 y ajustar los datos\n",
        "polyq_train = PolynomialFeatures(degree=5).fit(X_train_selected)\n",
        "polyq_test = PolynomialFeatures(degree=5).fit(X_test[selected_features_lasso])\n",
        "\n",
        "# TransformR los datos para que incluyan el polinomial de segundo orden.\n",
        "Xq_train = pd.DataFrame(polyq_train.transform(X_train_selected))\n",
        "Xq_test = pd.DataFrame(polyq_test.transform(X_test[selected_features_lasso]))\n",
        "\n",
        "# Generar y entrenar el modelo\n",
        "m3 = sm.OLS(list(Y_train), Xq_train).fit()\n",
        "\n",
        "# Imprimir resultados\n",
        "print(m3.summary())"
      ],
      "metadata": {
        "colab": {
          "base_uri": "https://localhost:8080/"
        },
        "id": "D8s0BgQGfsPr",
        "outputId": "d4521f17-f55d-43b3-ec40-5cda84ea69e2"
      },
      "execution_count": 49,
      "outputs": [
        {
          "output_type": "stream",
          "name": "stdout",
          "text": [
            "                            OLS Regression Results                            \n",
            "==============================================================================\n",
            "Dep. Variable:                      y   R-squared:                       0.460\n",
            "Model:                            OLS   Adj. R-squared:                  0.330\n",
            "Method:                 Least Squares   F-statistic:                     3.541\n",
            "Date:                Thu, 20 Feb 2025   Prob (F-statistic):           1.50e-10\n",
            "Time:                        09:16:55   Log-Likelihood:                -783.94\n",
            "No. Observations:                 254   AIC:                             1668.\n",
            "Df Residuals:                     204   BIC:                             1845.\n",
            "Df Model:                          49                                         \n",
            "Covariance Type:            nonrobust                                         \n",
            "==============================================================================\n",
            "                 coef    std err          t      P>|t|      [0.025      0.975]\n",
            "------------------------------------------------------------------------------\n",
            "0           1.894e-11   1.33e-11      1.428      0.155    -7.2e-12    4.51e-11\n",
            "1           1.886e-10   1.12e-09      0.169      0.866   -2.01e-09    2.39e-09\n",
            "2          -1.908e-12   1.89e-11     -0.101      0.920   -3.92e-11    3.54e-11\n",
            "3          -5.863e-12   2.23e-11     -0.263      0.793   -4.99e-11    3.81e-11\n",
            "4           2.189e-13   1.22e-12      0.180      0.857   -2.18e-12    2.62e-12\n",
            "5           1.676e-14   3.48e-13      0.048      0.962    -6.7e-13    7.04e-13\n",
            "6          -2.927e-13   1.05e-12     -0.279      0.781   -2.36e-12    1.78e-12\n",
            "7           1.189e-13   2.43e-13      0.489      0.625    -3.6e-13    5.98e-13\n",
            "8          -1.298e-13    4.1e-13     -0.316      0.752   -9.39e-13    6.79e-13\n",
            "9          -2.337e-15   7.87e-15     -0.297      0.767   -1.78e-14    1.32e-14\n",
            "10         -1.482e-15   3.33e-14     -0.044      0.965   -6.72e-14    6.42e-14\n",
            "11          1.765e-15   1.04e-14      0.169      0.866   -1.88e-14    2.24e-14\n",
            "12          1.016e-14   1.21e-14      0.840      0.402   -1.37e-14     3.4e-14\n",
            "13         -2.291e-15   2.22e-14     -0.103      0.918    -4.6e-14    4.15e-14\n",
            "14         -2.234e-14   6.97e-14     -0.321      0.749    -1.6e-13    1.15e-13\n",
            "15           2.67e-14   1.91e-14      1.401      0.163   -1.09e-14    6.43e-14\n",
            "16          2.937e-14   3.53e-14      0.831      0.407   -4.03e-14     9.9e-14\n",
            "17         -6.238e-16   1.24e-15     -0.505      0.614   -3.06e-15    1.81e-15\n",
            "18          4.957e-13   3.93e-13      1.261      0.209   -2.79e-13    1.27e-12\n",
            "19          3.362e-15   8.85e-15      0.380      0.704   -1.41e-14    2.08e-14\n",
            "20         -1.268e-15   1.24e-15     -1.022      0.308   -3.71e-15    1.18e-15\n",
            "21          5.498e-16   1.45e-15      0.379      0.705   -2.31e-15    3.41e-15\n",
            "22          7.372e-17    4.8e-16      0.154      0.878   -8.73e-16    1.02e-15\n",
            "23          1.685e-15   9.59e-15      0.176      0.861   -1.72e-14    2.06e-14\n",
            "24          7.131e-14   1.42e-13      0.502      0.616   -2.09e-13    3.52e-13\n",
            "25          3.674e-16   1.02e-15      0.360      0.719   -1.64e-15    2.38e-15\n",
            "26            2.8e-16   1.82e-16      1.538      0.125   -7.88e-17    6.39e-16\n",
            "27          9.843e-15   1.89e-14      0.520      0.604   -2.75e-14    4.72e-14\n",
            "28          2.126e-14   2.42e-14      0.877      0.381   -2.65e-14     6.9e-14\n",
            "29          1.464e-17   5.95e-16      0.025      0.980   -1.16e-15    1.19e-15\n",
            "30          8.665e-14   1.76e-13      0.492      0.623    -2.6e-13    4.34e-13\n",
            "31          4.671e-13   1.07e-12      0.437      0.663   -1.64e-12    2.57e-12\n",
            "32          2.212e-14   2.56e-14      0.863      0.389   -2.84e-14    7.26e-14\n",
            "33         -1.116e-13   9.19e-12     -0.012      0.990   -1.82e-11     1.8e-11\n",
            "34          4.461e-13   5.22e-13      0.855      0.394   -5.83e-13    1.47e-12\n",
            "35          8.642e-15   1.18e-14      0.734      0.464   -1.46e-14    3.19e-14\n",
            "36         -2.141e-16   5.35e-16     -0.400      0.689   -1.27e-15    8.41e-16\n",
            "37         -2.931e-15   1.24e-14     -0.237      0.813   -2.73e-14    2.14e-14\n",
            "38         -6.458e-14    4.4e-14     -1.468      0.144   -1.51e-13    2.21e-14\n",
            "39         -2.656e-15   2.05e-15     -1.294      0.197    -6.7e-15    1.39e-15\n",
            "40         -7.603e-15   1.09e-13     -0.070      0.944   -2.22e-13    2.07e-13\n",
            "41         -4.832e-13   6.39e-13     -0.756      0.450   -1.74e-12    7.77e-13\n",
            "42         -6.458e-14    4.4e-14     -1.468      0.144   -1.51e-13    2.21e-14\n",
            "43          7.312e-13   3.04e-12      0.240      0.810   -5.27e-12    6.73e-12\n",
            "44         -8.044e-13   4.88e-13     -1.650      0.101   -1.77e-12    1.57e-13\n",
            "45         -3.736e-14   2.27e-14     -1.646      0.101   -8.21e-14    7.39e-15\n",
            "46          1.436e-11   1.11e-11      1.299      0.195   -7.43e-12    3.62e-11\n",
            "47          9.693e-12   9.03e-12      1.074      0.284   -8.11e-12    2.75e-11\n",
            "48         -4.832e-13   6.39e-13     -0.756      0.450   -1.74e-12    7.77e-13\n",
            "49          1.691e-10   1.34e-10      1.266      0.207   -9.43e-11    4.33e-10\n",
            "50          7.312e-13   3.04e-12      0.240      0.810   -5.27e-12    6.73e-12\n",
            "51         -8.044e-13   4.88e-13     -1.650      0.101   -1.77e-12    1.57e-13\n",
            "52          1.343e-09   1.85e-09      0.726      0.469    -2.3e-09    4.99e-09\n",
            "53         -1.867e-11   7.75e-11     -0.241      0.810   -1.72e-10    1.34e-10\n",
            "54         -1.028e-11   5.62e-12     -1.829      0.069   -2.14e-11    8.01e-13\n",
            "55         -6.242e-13   3.85e-13     -1.623      0.106   -1.38e-12    1.34e-13\n",
            "56          3.983e-14   8.34e-14      0.478      0.633   -1.25e-13    2.04e-13\n",
            "57          1.015e-14   2.81e-14      0.362      0.718   -4.52e-14    6.55e-14\n",
            "58          5.705e-13   8.06e-13      0.708      0.480   -1.02e-12    2.16e-12\n",
            "59          6.642e-12   9.77e-12      0.680      0.497   -1.26e-11    2.59e-11\n",
            "60          1.847e-13   6.17e-13      0.299      0.765   -1.03e-12     1.4e-12\n",
            "61         -5.373e-16   1.25e-15     -0.428      0.669   -3.01e-15    1.94e-15\n",
            "62          -1.95e-14   9.32e-14     -0.209      0.835   -2.03e-13    1.64e-13\n",
            "63          1.468e-14   4.13e-13      0.036      0.972      -8e-13    8.29e-13\n",
            "64         -7.566e-15   1.28e-14     -0.589      0.557   -3.29e-14    1.78e-14\n",
            "65         -9.631e-14   9.23e-12     -0.010      0.992   -1.83e-11    1.81e-11\n",
            "66          3.627e-11   7.29e-11      0.497      0.620   -1.08e-10     1.8e-10\n",
            "67          1.468e-14   4.13e-13      0.036      0.972      -8e-13    8.29e-13\n",
            "68          8.457e-10   1.57e-09      0.537      0.592   -2.26e-09    3.95e-09\n",
            "69            6.6e-12    1.3e-11      0.509      0.611    -1.9e-11    3.22e-11\n",
            "70         -1.253e-14   1.03e-13     -0.121      0.904   -2.16e-13    1.91e-13\n",
            "71          4.153e-15   5.99e-15      0.694      0.489   -7.65e-15     1.6e-14\n",
            "72          1.755e-13    3.7e-13      0.474      0.636   -5.54e-13    9.05e-13\n",
            "73          6.953e-14   4.44e-13      0.157      0.876   -8.05e-13    9.44e-13\n",
            "74          2.956e-14   3.18e-14      0.929      0.354   -3.32e-14    9.23e-14\n",
            "75          9.508e-12   1.95e-11      0.488      0.626   -2.89e-11    4.79e-11\n",
            "76          1.013e-11   1.18e-11      0.859      0.391   -1.31e-11    3.34e-11\n",
            "77          6.953e-14   4.44e-13      0.157      0.876   -8.05e-13    9.44e-13\n",
            "78          2.266e-10   2.65e-10      0.856      0.393   -2.95e-10    7.48e-10\n",
            "79          3.517e-12   5.77e-12      0.610      0.543   -7.86e-12    1.49e-11\n",
            "80          5.466e-13   4.32e-13      1.266      0.207   -3.05e-13     1.4e-12\n",
            "81          4.502e-11   9.19e-11      0.490      0.625   -1.36e-10    2.26e-10\n",
            "82          2.423e-10   5.64e-10      0.429      0.668    -8.7e-10    1.35e-09\n",
            "83          1.013e-11   1.18e-11      0.859      0.391   -1.31e-11    3.34e-11\n",
            "84         -2.576e-11   4.48e-09     -0.006      0.995   -8.86e-09    8.81e-09\n",
            "85          2.266e-10   2.65e-10      0.856      0.393   -2.95e-10    7.48e-10\n",
            "86          3.517e-12   5.77e-12      0.610      0.543   -7.86e-12    1.49e-11\n",
            "87         -5.371e-11   2.11e-10     -0.255      0.799    -4.7e-10    3.62e-10\n",
            "88          5.766e-09   6.33e-09      0.911      0.364   -6.72e-09    1.83e-08\n",
            "89          1.371e-10   1.64e-10      0.835      0.405   -1.87e-10    4.61e-10\n",
            "90          8.917e-12   4.99e-12      1.787      0.075   -9.21e-13    1.88e-11\n",
            "91         -9.456e-15    2.1e-14     -0.449      0.654   -5.09e-14     3.2e-14\n",
            "92         -1.307e-13   4.72e-13     -0.277      0.782   -1.06e-12       8e-13\n",
            "93          -1.49e-12   1.19e-12     -1.253      0.212   -3.84e-12    8.55e-13\n",
            "94         -7.506e-14   9.15e-14     -0.820      0.413   -2.55e-13    1.05e-13\n",
            "95          -3.32e-13   1.11e-11     -0.030      0.976   -2.22e-11    2.15e-11\n",
            "96         -3.315e-11   2.17e-11     -1.525      0.129    -7.6e-11     9.7e-12\n",
            "97          -1.49e-12   1.19e-12     -1.253      0.212   -3.84e-12    8.55e-13\n",
            "98         -4.071e-10   2.46e-10     -1.658      0.099   -8.91e-10    7.71e-11\n",
            "99          -1.88e-11   1.15e-11     -1.631      0.104   -4.15e-11    3.92e-12\n",
            "100        -8.056e-13   6.37e-13     -1.265      0.207   -2.06e-12     4.5e-13\n",
            "101        -5.801e-12   5.99e-11     -0.097      0.923   -1.24e-10    1.12e-10\n",
            "102        -2.798e-10    3.6e-10     -0.778      0.438   -9.89e-10     4.3e-10\n",
            "103        -3.315e-11   2.17e-11     -1.525      0.129    -7.6e-11     9.7e-12\n",
            "104         2.027e-10   1.03e-09      0.196      0.845   -1.84e-09    2.24e-09\n",
            "105        -4.071e-10   2.46e-10     -1.658      0.099   -8.91e-10    7.71e-11\n",
            "106         -1.88e-11   1.15e-11     -1.631      0.104   -4.15e-11    3.92e-12\n",
            "107         9.902e-11   1.29e-10      0.765      0.445   -1.56e-10    3.54e-10\n",
            "108        -5.057e-09   2.85e-09     -1.776      0.077   -1.07e-08    5.56e-10\n",
            "109        -3.156e-10   1.98e-10     -1.592      0.113   -7.06e-10    7.52e-11\n",
            "110         -1.43e-11   1.11e-11     -1.288      0.199   -3.62e-11    7.58e-12\n",
            "111         7.045e-09   5.53e-09      1.274      0.204   -3.86e-09    1.79e-08\n",
            "112        -1.241e-09   1.28e-09     -0.969      0.334   -3.77e-09    1.28e-09\n",
            "113        -2.798e-10    3.6e-10     -0.778      0.438   -9.89e-10     4.3e-10\n",
            "114         7.205e-11   1.13e-10      0.636      0.525   -1.51e-10    2.95e-10\n",
            "115         2.027e-10   1.03e-09      0.196      0.845   -1.84e-09    2.24e-09\n",
            "116        -4.071e-10   2.46e-10     -1.658      0.099   -8.91e-10    7.71e-11\n",
            "117        -5.315e-12   6.05e-12     -0.878      0.381   -1.72e-11    6.62e-12\n",
            "118         9.902e-11   1.29e-10      0.765      0.445   -1.56e-10    3.54e-10\n",
            "119        -5.057e-09   2.85e-09     -1.776      0.077   -1.07e-08    5.56e-10\n",
            "120        -3.156e-10   1.98e-10     -1.592      0.113   -7.06e-10    7.52e-11\n",
            "121         5.347e-14   8.57e-14      0.624      0.533   -1.15e-13    2.22e-13\n",
            "122        -8.845e-12   8.15e-12     -1.085      0.279   -2.49e-11    7.23e-12\n",
            "123         4.937e-10   3.16e-10      1.563      0.120   -1.29e-10    1.12e-09\n",
            "124        -3.996e-09   3.89e-09     -1.028      0.305   -1.17e-08    3.67e-09\n",
            "125        -2.898e-10   2.84e-10     -1.020      0.309    -8.5e-10     2.7e-10\n",
            "126         1.478e-12   3.89e-12      0.380      0.704   -6.18e-12    9.14e-12\n",
            "127         5.194e-13   8.22e-13      0.632      0.528    -1.1e-12    2.14e-12\n",
            "128         3.984e-11   8.33e-11      0.478      0.633   -1.24e-10    2.04e-10\n",
            "129         7.449e-10   1.88e-09      0.396      0.692   -2.96e-09    4.45e-09\n",
            "130         1.056e-11   1.76e-11      0.599      0.550   -2.42e-11    4.53e-11\n",
            "131         1.271e-13   5.45e-13      0.233      0.816   -9.47e-13     1.2e-12\n",
            "132         1.004e-11   2.85e-11      0.353      0.725   -4.61e-11    6.61e-11\n",
            "133         1.814e-10   6.26e-10      0.290      0.772   -1.05e-09    1.41e-09\n",
            "134         2.602e-12   1.28e-11      0.203      0.839   -2.27e-11    2.79e-11\n",
            "135         5.484e-10   8.06e-10      0.680      0.497   -1.04e-09    2.14e-09\n",
            "136         6.021e-09   9.72e-09      0.619      0.537   -1.32e-08    2.52e-08\n",
            "137         1.814e-10   6.26e-10      0.290      0.772   -1.05e-09    1.41e-09\n",
            "138        -2.856e-10   4.91e-10     -0.581      0.562   -1.25e-09    6.83e-10\n",
            "139         3.084e-09   1.37e-08      0.226      0.822   -2.39e-08       3e-08\n",
            "140         5.262e-11   3.01e-10      0.175      0.861    -5.4e-10    6.45e-10\n",
            "141          1.57e-14   4.01e-14      0.391      0.696   -6.34e-14    9.48e-14\n",
            "142        -6.971e-13   1.37e-12     -0.508      0.612    -3.4e-12    2.01e-12\n",
            "143        -1.084e-11   1.68e-11     -0.645      0.520    -4.4e-11    2.23e-11\n",
            "144         4.246e-13   1.11e-12      0.383      0.702   -1.76e-12    2.61e-12\n",
            "145        -3.572e-11   1.04e-10     -0.344      0.731    -2.4e-10    1.69e-10\n",
            "146         -3.15e-10   4.18e-10     -0.754      0.452   -1.14e-09    5.09e-10\n",
            "147        -1.084e-11   1.68e-11     -0.645      0.520    -4.4e-11    2.23e-11\n",
            "148        -7.173e-10   9.77e-10     -0.734      0.464   -2.64e-09    1.21e-09\n",
            "149        -8.229e-11    1.4e-10     -0.586      0.558   -3.59e-10    1.94e-10\n",
            "150         1.318e-11   2.94e-11      0.448      0.655   -4.49e-11    7.12e-11\n",
            "151        -1.839e-09   1.04e-08     -0.177      0.860   -2.23e-08    1.86e-08\n",
            "152        -1.342e-11    1.6e-09     -0.008      0.993   -3.18e-09    3.15e-09\n",
            "153         -3.15e-10   4.18e-10     -0.754      0.452   -1.14e-09    5.09e-10\n",
            "154         1.567e-11   8.39e-11      0.187      0.852    -1.5e-10    1.81e-10\n",
            "155        -7.173e-10   9.77e-10     -0.734      0.464   -2.64e-09    1.21e-09\n",
            "156        -8.229e-11    1.4e-10     -0.586      0.558   -3.59e-10    1.94e-10\n",
            "157        -5.162e-13   1.49e-12     -0.348      0.729   -3.44e-12    2.41e-12\n",
            "158         6.184e-11   8.86e-11      0.698      0.486   -1.13e-10    2.36e-10\n",
            "159        -1.739e-10   8.66e-10     -0.201      0.841   -1.88e-09    1.53e-09\n",
            "160         3.565e-10   7.65e-10      0.466      0.642   -1.15e-09    1.86e-09\n",
            "161         1.112e-13   1.09e-13      1.020      0.309   -1.04e-13    3.26e-13\n",
            "162         4.076e-12      6e-12      0.679      0.498   -7.76e-12    1.59e-11\n",
            "163           2.6e-11   3.43e-11      0.758      0.449   -4.16e-11    9.36e-11\n",
            "164          1.44e-12    1.6e-12      0.902      0.368   -1.71e-12    4.59e-12\n",
            "165         1.688e-10   3.68e-10      0.459      0.647   -5.57e-10    8.94e-10\n",
            "166        -1.586e-10   4.57e-10     -0.347      0.729   -1.06e-09    7.42e-10\n",
            "167           2.6e-11   3.43e-11      0.758      0.449   -4.16e-11    9.36e-11\n",
            "168        -1.759e-09   3.27e-09     -0.538      0.591   -8.21e-09    4.69e-09\n",
            "169         4.543e-10   4.91e-10      0.924      0.356   -5.15e-10    1.42e-09\n",
            "170         2.596e-11   2.83e-11      0.916      0.361   -2.99e-11    8.18e-11\n",
            "171         8.998e-09   1.91e-08      0.471      0.638   -2.87e-08    4.67e-08\n",
            "172         -1.27e-09   2.78e-09     -0.458      0.648   -6.74e-09     4.2e-09\n",
            "173        -1.586e-10   4.57e-10     -0.347      0.729   -1.06e-09    7.42e-10\n",
            "174         1.853e-10   3.57e-10      0.519      0.604   -5.18e-10    8.89e-10\n",
            "175        -1.759e-09   3.27e-09     -0.538      0.591   -8.21e-09    4.69e-09\n",
            "176         4.543e-10   4.91e-10      0.924      0.356   -5.15e-10    1.42e-09\n",
            "177        -1.004e-11   2.07e-11     -0.484      0.629   -5.09e-11    3.09e-11\n",
            "178        -2.853e-11   5.68e-10     -0.050      0.960   -1.15e-09    1.09e-09\n",
            "179         6.365e-09   5.77e-09      1.103      0.271   -5.02e-09    1.77e-08\n",
            "180         3.923e-10   4.49e-10      0.873      0.384   -4.93e-10    1.28e-09\n",
            "181        -7.208e-11   1.66e-10     -0.433      0.665      -4e-10    2.56e-10\n",
            "182         2.221e-11   4.89e-11      0.454      0.650   -7.42e-11    1.19e-10\n",
            "183         -1.27e-09   2.78e-09     -0.458      0.648   -6.74e-09     4.2e-09\n",
            "184        -2.753e-12   6.34e-12     -0.434      0.665   -1.53e-11    9.75e-12\n",
            "185         1.853e-10   3.57e-10      0.519      0.604   -5.18e-10    8.89e-10\n",
            "186        -1.759e-09   3.27e-09     -0.538      0.591   -8.21e-09    4.69e-09\n",
            "187         1.674e-13   3.32e-13      0.504      0.615   -4.87e-13    8.22e-13\n",
            "188        -1.004e-11   2.07e-11     -0.484      0.629   -5.09e-11    3.09e-11\n",
            "189        -2.853e-11   5.68e-10     -0.050      0.960   -1.15e-09    1.09e-09\n",
            "190         6.365e-09   5.77e-09      1.103      0.271   -5.02e-09    1.77e-08\n",
            "191        -1.351e-15   4.44e-15     -0.305      0.761   -1.01e-14     7.4e-15\n",
            "192         1.075e-13   7.36e-13      0.146      0.884   -1.34e-12    1.56e-12\n",
            "193         1.267e-11   3.24e-11      0.391      0.696   -5.12e-11    7.65e-11\n",
            "194        -6.274e-10   6.44e-10     -0.975      0.331    -1.9e-09    6.42e-10\n",
            "195         2.478e-09   7.05e-09      0.351      0.726   -1.14e-08    1.64e-08\n",
            "196        -3.791e-13   8.51e-13     -0.446      0.656   -2.06e-12     1.3e-12\n",
            "197        -7.327e-12   1.96e-11     -0.373      0.709    -4.6e-11    3.14e-11\n",
            "198        -3.919e-11   8.07e-11     -0.486      0.628   -1.98e-10     1.2e-10\n",
            "199        -2.784e-12   5.96e-12     -0.467      0.641   -1.45e-11    8.97e-12\n",
            "200         -4.38e-11   4.12e-10     -0.106      0.915   -8.55e-10    7.68e-10\n",
            "201        -2.807e-10   4.42e-10     -0.635      0.526   -1.15e-09    5.91e-10\n",
            "202        -3.919e-11   8.07e-11     -0.486      0.628   -1.98e-10     1.2e-10\n",
            "203         3.286e-10   5.95e-10      0.552      0.582   -8.45e-10     1.5e-09\n",
            "204        -1.133e-10    5.2e-10     -0.218      0.828   -1.14e-09    9.13e-10\n",
            "205        -2.498e-11   5.97e-11     -0.418      0.676   -1.43e-10    9.28e-11\n",
            "206         2.399e-09   1.01e-08      0.239      0.812   -1.74e-08    2.22e-08\n",
            "207        -1.924e-10   1.43e-09     -0.134      0.893   -3.02e-09    2.63e-09\n",
            "208        -2.807e-10   4.42e-10     -0.635      0.526   -1.15e-09    5.91e-10\n",
            "209        -7.338e-12   1.19e-10     -0.062      0.951   -2.42e-10    2.28e-10\n",
            "210         3.286e-10   5.95e-10      0.552      0.582   -8.45e-10     1.5e-09\n",
            "211        -1.133e-10    5.2e-10     -0.218      0.828   -1.14e-09    9.13e-10\n",
            "212         5.714e-12   8.17e-12      0.699      0.485   -1.04e-11    2.18e-11\n",
            "213         -5.62e-11   1.33e-10     -0.422      0.674   -3.19e-10    2.07e-10\n",
            "214         1.979e-11   2.63e-09      0.008      0.994   -5.16e-09     5.2e-09\n",
            "215         -3.48e-10    7.4e-10     -0.470      0.639   -1.81e-09    1.11e-09\n",
            "216        -5.655e-11   1.64e-10     -0.345      0.730    -3.8e-10    2.67e-10\n",
            "217         4.946e-12    2.4e-11      0.206      0.837   -4.24e-11    5.23e-11\n",
            "218        -1.924e-10   1.43e-09     -0.134      0.893   -3.02e-09    2.63e-09\n",
            "219        -1.436e-13   3.05e-12     -0.047      0.962   -6.15e-12    5.87e-12\n",
            "220        -7.338e-12   1.19e-10     -0.062      0.951   -2.42e-10    2.28e-10\n",
            "221         3.286e-10   5.95e-10      0.552      0.582   -8.45e-10     1.5e-09\n",
            "222        -1.474e-13   2.15e-13     -0.686      0.493   -5.71e-13    2.76e-13\n",
            "223         5.714e-12   8.17e-12      0.699      0.485   -1.04e-11    2.18e-11\n",
            "224         -5.62e-11   1.33e-10     -0.422      0.674   -3.19e-10    2.07e-10\n",
            "225         1.979e-11   2.63e-09      0.008      0.994   -5.16e-09     5.2e-09\n",
            "226        -1.494e-14   6.75e-14     -0.221      0.825   -1.48e-13    1.18e-13\n",
            "227        -4.033e-13   4.99e-13     -0.808      0.420   -1.39e-12    5.81e-13\n",
            "228         3.092e-12   1.82e-11      0.170      0.865   -3.29e-11     3.9e-11\n",
            "229         1.496e-10   4.54e-10      0.330      0.742   -7.45e-10    1.04e-09\n",
            "230        -5.201e-09   8.65e-09     -0.602      0.548   -2.22e-08    1.18e-08\n",
            "231        -6.459e-12   5.69e-12     -1.134      0.258   -1.77e-11    4.77e-12\n",
            "232         1.127e-12   1.34e-12      0.842      0.401   -1.51e-12    3.77e-12\n",
            "233         4.946e-12    2.4e-11      0.206      0.837   -4.24e-11    5.23e-11\n",
            "234        -6.641e-14   1.21e-13     -0.548      0.584   -3.05e-13    1.72e-13\n",
            "235        -1.437e-13   3.05e-12     -0.047      0.962   -6.15e-12    5.87e-12\n",
            "236        -7.338e-12   1.19e-10     -0.062      0.951   -2.42e-10    2.28e-10\n",
            "237         4.108e-15   5.54e-15      0.742      0.459   -6.81e-15     1.5e-14\n",
            "238        -1.433e-13   2.16e-13     -0.663      0.508   -5.69e-13    2.83e-13\n",
            "239         5.714e-12   8.17e-12      0.699      0.485   -1.04e-11    2.18e-11\n",
            "240         -5.62e-11   1.33e-10     -0.422      0.674   -3.19e-10    2.07e-10\n",
            "241        -6.993e-17      1e-16     -0.700      0.485   -2.67e-16    1.27e-16\n",
            "242         2.869e-14   7.22e-14      0.397      0.691   -1.14e-13    1.71e-13\n",
            "243        -4.044e-13   4.99e-13     -0.810      0.419   -1.39e-12     5.8e-13\n",
            "244         3.092e-12   1.82e-11      0.170      0.865   -3.29e-11     3.9e-11\n",
            "245         1.496e-10   4.54e-10      0.330      0.742   -7.45e-10    1.04e-09\n",
            "246         3.139e-19   6.28e-19      0.500      0.618   -9.25e-19    1.55e-18\n",
            "247        -7.836e-17   1.73e-16     -0.452      0.652    -4.2e-16    2.63e-16\n",
            "248         4.441e-15   1.73e-14      0.257      0.798   -2.97e-14    3.86e-14\n",
            "249         4.612e-14   8.88e-13      0.052      0.959    -1.7e-12     1.8e-12\n",
            "250        -9.025e-12   2.59e-11     -0.348      0.728   -6.01e-11    4.21e-11\n",
            "251         1.624e-10      3e-10      0.542      0.588   -4.28e-10    7.53e-10\n",
            "==============================================================================\n",
            "Omnibus:                       52.584   Durbin-Watson:                   2.011\n",
            "Prob(Omnibus):                  0.000   Jarque-Bera (JB):              115.294\n",
            "Skew:                           0.999   Prob(JB):                     9.21e-26\n",
            "Kurtosis:                       5.627   Cond. No.                     6.10e+16\n",
            "==============================================================================\n",
            "\n",
            "Notes:\n",
            "[1] Standard Errors assume that the covariance matrix of the errors is correctly specified.\n",
            "[2] The condition number is large, 6.1e+16. This might indicate that there are\n",
            "strong multicollinearity or other numerical problems.\n"
          ]
        }
      ]
    },
    {
      "cell_type": "markdown",
      "source": [
        "19. Se genera la gráfica para este modelo."
      ],
      "metadata": {
        "id": "IVC9jhPMg9sA"
      }
    },
    {
      "cell_type": "code",
      "source": [
        "# Predicción y evaluación del modelo\n",
        "yHatPent = m3.predict(Xq_test)\n",
        "\n",
        "# Graficar valores realves vs predichos\n",
        "plt.figure(figsize=(10, 8))\n",
        "sns.scatterplot(x=Y_test, y=yHatPent, color=\"blue\", label=\"Datos\", alpha=0.6)\n",
        "\n",
        "# Dibujar la línea de referencia perfecta (y = x)\n",
        "plt.plot([min(Y_test), max(Y_test)], [min(Y_test), max(Y_test)], color=\"red\", linestyle=\"--\", label=\"Ideal (y = y)\")\n",
        "\n",
        "# Etiquetas y título\n",
        "plt.xlabel(\"Valores Reales (Y)\")\n",
        "plt.ylabel(\"Valores Predichos (Ŷ)\")\n",
        "plt.title(\"Comparación de Valores Reales vs. Predichos\")\n",
        "plt.legend()"
      ],
      "metadata": {
        "colab": {
          "base_uri": "https://localhost:8080/",
          "height": 737
        },
        "id": "ByKOztrog-Ei",
        "outputId": "0f1591cf-4ee6-484e-e1b2-dd452b687621"
      },
      "execution_count": 50,
      "outputs": [
        {
          "output_type": "execute_result",
          "data": {
            "text/plain": [
              "<matplotlib.legend.Legend at 0x78f03c89a210>"
            ]
          },
          "metadata": {},
          "execution_count": 50
        },
        {
          "output_type": "display_data",
          "data": {
            "text/plain": [
              "<Figure size 1000x800 with 1 Axes>"
            ],
            "image/png": "[encoded data removed]"
          },
          "metadata": {}
        }
      ]
    },
    {
      "cell_type": "markdown",
      "source": [
        "De acuerdo con los resultados del modelo y la gráfica, el ajuste mejora un poco al tener una R2 de **0.460**, sin embargo, el ajuste sigue siendo bajo. Aún así y a pesar de la complejidad, este es el mejor modelo encontrado hasta ahora."
      ],
      "metadata": {
        "id": "c7aRQurTh4-W"
      }
    },
    {
      "cell_type": "markdown",
      "source": [
        "## Métricas de error"
      ],
      "metadata": {
        "id": "E16TGX3tiwvf"
      }
    },
    {
      "cell_type": "markdown",
      "source": [
        "Calcula al menos una métrica de error y una del nivel de linealidad del modelo, con la\n",
        "intención de que ambas métricas representen el funcionamiento esperado del modelo\n",
        "para cualquier dato que se le presente. Agrega un comentario que describa en palabras\n",
        "sencillas el significado de los mismos."
      ],
      "metadata": {
        "id": "goGFdsk4md-8"
      }
    },
    {
      "cell_type": "markdown",
      "source": [
        "20. Se calcula el **MAE** y el **RMSE** para la regresión lineal."
      ],
      "metadata": {
        "id": "gXnrn_Dzmndg"
      }
    },
    {
      "cell_type": "code",
      "source": [
        "from sklearn.metrics import mean_absolute_error, mean_squared_error\n",
        "\n",
        "# Calcular métricas\n",
        "mae_lineal = mean_absolute_error(Y_test, yHatLineal)  # Error Absoluto Medio\n",
        "rmse_lineal = np.sqrt(mean_squared_error(Y_test, yHatLineal))  # Raíz del Error Cuadrático Medio\n",
        "\n",
        "print(f\"MAE: {mae_lineal:.4f}\")\n",
        "print(f\"RMSE: {rmse_lineal:.4f}\")"
      ],
      "metadata": {
        "colab": {
          "base_uri": "https://localhost:8080/"
        },
        "id": "pz4GlX7aiuch",
        "outputId": "3abdfa75-6dce-455f-8d26-609d89f5e759"
      },
      "execution_count": 44,
      "outputs": [
        {
          "output_type": "stream",
          "name": "stdout",
          "text": [
            "MAE: 5.2734\n",
            "RMSE: 6.7407\n"
          ]
        }
      ]
    },
    {
      "cell_type": "markdown",
      "source": [
        "21. Se calcula el **MAE** y el **RMSE** para la regresión polinomial cuadrática."
      ],
      "metadata": {
        "id": "yPn3Sz5hpuqO"
      }
    },
    {
      "cell_type": "code",
      "source": [
        "# Calcular métricas\n",
        "mae_quad = mean_absolute_error(Y_test, yHatQuad)  # Error Absoluto Medio\n",
        "rmse_quad = np.sqrt(mean_squared_error(Y_test, yHatQuad))  # Raíz del Error Cuadrático Medio\n",
        "\n",
        "print(f\"MAE: {mae_quad:.4f}\")\n",
        "print(f\"RMSE: {rmse_quad:.4f}\")"
      ],
      "metadata": {
        "colab": {
          "base_uri": "https://localhost:8080/"
        },
        "id": "AUUs9197ondv",
        "outputId": "a965d84e-2e8a-4a98-c3d5-9070112aa306"
      },
      "execution_count": 45,
      "outputs": [
        {
          "output_type": "stream",
          "name": "stdout",
          "text": [
            "MAE: 5.3971\n",
            "RMSE: 6.9989\n"
          ]
        }
      ]
    },
    {
      "cell_type": "markdown",
      "source": [
        "22. Se calcula el **MAE** y el **RMSE** para el modelo de árbol de decisión."
      ],
      "metadata": {
        "id": "Rd19-3uWp4gz"
      }
    },
    {
      "cell_type": "code",
      "source": [
        "# Calcular métricas\n",
        "mae_tree = mean_absolute_error(Y_test, yHatTree)  # Error Absoluto Medio\n",
        "rmse_tree = np.sqrt(mean_squared_error(Y_test, yHatTree))  # Raíz del Error Cuadrático Medio\n",
        "\n",
        "print(f\"MAE: {mae_tree:.4f}\")\n",
        "print(f\"RMSE: {rmse_tree:.4f}\")"
      ],
      "metadata": {
        "colab": {
          "base_uri": "https://localhost:8080/"
        },
        "id": "SRJvr1aIo24O",
        "outputId": "665f22f7-7db4-4ddf-c36a-8c0ea3acd42e"
      },
      "execution_count": 48,
      "outputs": [
        {
          "output_type": "stream",
          "name": "stdout",
          "text": [
            "MAE: 6.0225\n",
            "RMSE: 8.2236\n"
          ]
        }
      ]
    },
    {
      "cell_type": "markdown",
      "source": [
        "23. Se calcula el **MAE** y el **RMSE** para la regresión polinomial de grado 5."
      ],
      "metadata": {
        "id": "bdQ_EpW3qBht"
      }
    },
    {
      "cell_type": "code",
      "source": [
        "# Calcular métricas\n",
        "mae_pent = mean_absolute_error(Y_test, yHatPent)  # Error Absoluto Medio\n",
        "rmse_pent = np.sqrt(mean_squared_error(Y_test, yHatPent))  # Raíz del Error Cuadrático Medio\n",
        "\n",
        "print(f\"MAE: {mae_pent:.4f}\")\n",
        "print(f\"RMSE: {rmse_pent:.4f}\")"
      ],
      "metadata": {
        "colab": {
          "base_uri": "https://localhost:8080/"
        },
        "id": "Ji28de7lpKvE",
        "outputId": "b009ab39-e0b2-4c60-e139-aebadc25ebde"
      },
      "execution_count": 52,
      "outputs": [
        {
          "output_type": "stream",
          "name": "stdout",
          "text": [
            "MAE: 10.5598\n",
            "RMSE: 36.7423\n"
          ]
        }
      ]
    },
    {
      "cell_type": "markdown",
      "source": [
        "Se intentó calcular las métricas del error absoluto medio y la raíz del error cuadrático medio, estas miden qué tan lejos están las predicciones del modelo respecto a los valores reales. Entre más bajos estén, mas acertadas resultan ser las predicciones del modelo.\n",
        "Después de calcular las métrica de error de todos los modelos intentados, se puede decir que el que tiene los valores más bajos es el de la regresión lineal, y para los otros modelos, estos van aumentando proporcionalmente a la complejidad del modelo. A pesar de esto, si se considera la R<sup>2</sup> como una medida de linealidad, de acuerdo a los valores obtenidos con anterioridad, la regresión polinomial de grado 5 es el que se ajustó mas, aunque los valores siguieron siendo bajos."
      ],
      "metadata": {
        "id": "P6SQ39ddr88u"
      }
    },
    {
      "cell_type": "markdown",
      "source": [
        "## Análisis de inferencia"
      ],
      "metadata": {
        "id": "SP5urMJVuBNs"
      }
    },
    {
      "cell_type": "markdown",
      "source": [
        "Genera un modelo de regresión lineal o no lineal (del mismo tipo que el que haya obtenido\n",
        "el mejor desempeño en los puntos anteriores), pero para realizar un análisis de inferencia.\n",
        "A partir del mismo, realiza una o varias inferencias sobre los datos, asegurándote de\n",
        "incluir márgenes de error para tus conclusiones."
      ],
      "metadata": {
        "id": "-XM7ATZxuEne"
      }
    },
    {
      "cell_type": "markdown",
      "source": [
        "24. Se hace un análisis de inferencia para un modelo de regresión lineal."
      ],
      "metadata": {
        "id": "SzSRBh0iuIph"
      }
    },
    {
      "cell_type": "code",
      "source": [
        "# Ajustar el modelo de regresión\n",
        "X_train_const = sm.add_constant(X_train_selected)  # Agregar término constante (intercepto)\n",
        "model = sm.OLS(Y_train, X_train_const).fit()\n",
        "\n",
        "# Mostrar resultados del modelo\n",
        "print(model.summary())\n",
        "\n",
        "# Obtener intervalos de confianza del 95% para los coeficientes\n",
        "print(model.conf_int(alpha=0.05))"
      ],
      "metadata": {
        "colab": {
          "base_uri": "https://localhost:8080/"
        },
        "id": "ovUxDtq7wX_K",
        "outputId": "7a4c1c19-44d4-4270-c0cd-f1b89f9d2ae4"
      },
      "execution_count": 53,
      "outputs": [
        {
          "output_type": "stream",
          "name": "stdout",
          "text": [
            "                            OLS Regression Results                            \n",
            "==============================================================================\n",
            "Dep. Variable:          PM2.5 (ug/m³)   R-squared:                       0.200\n",
            "Model:                            OLS   Adj. R-squared:                  0.184\n",
            "Method:                 Least Squares   F-statistic:                     12.42\n",
            "Date:                Thu, 20 Feb 2025   Prob (F-statistic):           9.13e-11\n",
            "Time:                        09:48:51   Log-Likelihood:                -833.72\n",
            "No. Observations:                 254   AIC:                             1679.\n",
            "Df Residuals:                     248   BIC:                             1701.\n",
            "Df Model:                           5                                         \n",
            "Covariance Type:            nonrobust                                         \n",
            "==============================================================================\n",
            "                 coef    std err          t      P>|t|      [0.025      0.975]\n",
            "------------------------------------------------------------------------------\n",
            "const        783.7255    111.214      7.047      0.000     564.681    1002.770\n",
            "prcp          -0.2164      0.127     -1.709      0.089      -0.466       0.033\n",
            "wspd          -1.1816      0.375     -3.148      0.002      -1.921      -0.442\n",
            "pres          -0.7329      0.107     -6.822      0.000      -0.944      -0.521\n",
            "tavg_pres     -0.0009      0.000     -4.816      0.000      -0.001      -0.001\n",
            "tavg_wspd      0.0452      0.015      3.064      0.002       0.016       0.074\n",
            "==============================================================================\n",
            "Omnibus:                       73.628   Durbin-Watson:                   1.932\n",
            "Prob(Omnibus):                  0.000   Jarque-Bera (JB):              172.335\n",
            "Skew:                           1.367   Prob(JB):                     3.78e-38\n",
            "Kurtosis:                       5.968   Cond. No.                     6.55e+06\n",
            "==============================================================================\n",
            "\n",
            "Notes:\n",
            "[1] Standard Errors assume that the covariance matrix of the errors is correctly specified.\n",
            "[2] The condition number is large, 6.55e+06. This might indicate that there are\n",
            "strong multicollinearity or other numerical problems.\n",
            "                    0            1\n",
            "const      564.680997  1002.769926\n",
            "prcp        -0.465896     0.033002\n",
            "wspd        -1.920870    -0.442295\n",
            "pres        -0.944478    -0.521275\n",
            "tavg_pres   -0.001338    -0.000561\n",
            "tavg_wspd    0.016147     0.074241\n"
          ]
        }
      ]
    },
    {
      "cell_type": "markdown",
      "source": [
        "Se escogió analizar el modelo de regresión lineal ya que es el que salió con menor error y el segundo que tiene la R<sup>2</sup> más alta. El coeficiente sigue siendo bajo, lo cual con los datos que se tienen el modelo no logra explicar buena parte del comportamiento de los datos que se tienen. Sin embargo, los valores del estadístico F si sugieren que las variables meteorológicas tienen un impacto significativo en los niveles de PM2.5 pero no logran tener un buen ajuste. La mayoría de variables meteorológicas son significativas en el modelo ya que tienen un valor debajo del 0.05 a excepción del nivel de precipitación.  "
      ],
      "metadata": {
        "id": "v3YTpiuVx7jS"
      }
    },
    {
      "cell_type": "markdown",
      "source": [
        "- **Nombre:** José Humberto Cavazos\n",
        "- **Matrícula:** 531712\n",
        "- **Fecha:** 20/Feb/25"
      ],
      "metadata": {
        "id": "YDPz0IEU0LKC"
      }
    }
  ]
}